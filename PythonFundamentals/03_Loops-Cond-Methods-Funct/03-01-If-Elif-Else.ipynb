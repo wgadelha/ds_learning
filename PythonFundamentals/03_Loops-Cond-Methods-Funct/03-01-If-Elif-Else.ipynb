{
 "cells": [
  {
   "cell_type": "markdown",
   "metadata": {},
   "source": [
    "# <font color='blue'>Python Fundamentals - 01 Conditionals</font>\n",
    "\n",
    "## Based on: http://github.com/dsacademybr"
   ]
  },
  {
   "cell_type": "code",
   "execution_count": 1,
   "metadata": {},
   "outputs": [
    {
     "output_type": "stream",
     "name": "stdout",
     "text": [
      "Python version used in this Jupyter notebook: 3.7.6\n"
     ]
    }
   ],
   "source": [
    "# Python version\n",
    "from platform import python_version\n",
    "print('Python version used in this Jupyter notebook:', python_version())"
   ]
  },
  {
   "cell_type": "markdown",
   "metadata": {},
   "source": [
    "### If-Else"
   ]
  },
  {
   "cell_type": "code",
   "execution_count": 2,
   "metadata": {},
   "outputs": [
    {
     "output_type": "stream",
     "name": "stdout",
     "text": [
      "Python works!\n"
     ]
    }
   ],
   "source": [
    "# If Conditional\n",
    "if 5 > 2:\n",
    "    print(\"Python works!\")"
   ]
  },
  {
   "cell_type": "code",
   "execution_count": 3,
   "metadata": {},
   "outputs": [
    {
     "output_type": "stream",
     "name": "stdout",
     "text": [
      "Something is wrong!\n"
     ]
    }
   ],
   "source": [
    "# Statement If...Else\n",
    "if 5 < 2:\n",
    "   print(\"Python works!\")\n",
    "else:\n",
    "   print(\"Something is wrong!\")"
   ]
  },
  {
   "cell_type": "code",
   "execution_count": 4,
   "metadata": {},
   "outputs": [
    {
     "output_type": "execute_result",
     "data": {
      "text/plain": [
       "True"
      ]
     },
     "metadata": {},
     "execution_count": 4
    }
   ],
   "source": [
    "6 > 3"
   ]
  },
  {
   "cell_type": "code",
   "execution_count": 5,
   "metadata": {},
   "outputs": [
    {
     "output_type": "execute_result",
     "data": {
      "text/plain": [
       "False"
      ]
     },
     "metadata": {},
     "execution_count": 5
    }
   ],
   "source": [
    "3 > 7"
   ]
  },
  {
   "cell_type": "code",
   "execution_count": 6,
   "metadata": {},
   "outputs": [
    {
     "output_type": "execute_result",
     "data": {
      "text/plain": [
       "True"
      ]
     },
     "metadata": {},
     "execution_count": 6
    }
   ],
   "source": [
    "4 < 8"
   ]
  },
  {
   "cell_type": "code",
   "execution_count": 7,
   "metadata": {},
   "outputs": [
    {
     "output_type": "execute_result",
     "data": {
      "text/plain": [
       "True"
      ]
     },
     "metadata": {},
     "execution_count": 7
    }
   ],
   "source": [
    "4 >= 4"
   ]
  },
  {
   "cell_type": "code",
   "execution_count": 8,
   "metadata": {},
   "outputs": [
    {
     "output_type": "stream",
     "name": "stdout",
     "text": [
      "Testing Python!\n"
     ]
    }
   ],
   "source": [
    "if 5 == 5:\n",
    "  print(\"Testing Python!\")"
   ]
  },
  {
   "cell_type": "code",
   "execution_count": 9,
   "metadata": {},
   "outputs": [
    {
     "output_type": "stream",
     "name": "stdout",
     "text": [
      "Python seems to work!\n"
     ]
    }
   ],
   "source": [
    "if True:\n",
    "    print('Python seems to work!')"
   ]
  },
  {
   "cell_type": "code",
   "execution_count": 10,
   "metadata": {},
   "outputs": [
    {
     "output_type": "error",
     "ename": "SyntaxError",
     "evalue": "invalid syntax (<ipython-input-10-f2831fd15cfc>, line 2)",
     "traceback": [
      "\u001b[0;36m  File \u001b[0;32m\"<ipython-input-10-f2831fd15cfc>\"\u001b[0;36m, line \u001b[0;32m2\u001b[0m\n\u001b[0;31m    if 4 > 3\u001b[0m\n\u001b[0m            ^\u001b[0m\n\u001b[0;31mSyntaxError\u001b[0m\u001b[0;31m:\u001b[0m invalid syntax\n"
     ]
    }
   ],
   "source": [
    "# Watch out the syntax!\n",
    "if 4 > 3\n",
    "  print(\"Everything works!\")"
   ]
  },
  {
   "cell_type": "code",
   "execution_count": 11,
   "metadata": {},
   "outputs": [
    {
     "output_type": "error",
     "ename": "IndentationError",
     "evalue": "expected an indented block (<ipython-input-11-c64bf2b4b280>, line 3)",
     "traceback": [
      "\u001b[0;36m  File \u001b[0;32m\"<ipython-input-11-c64bf2b4b280>\"\u001b[0;36m, line \u001b[0;32m3\u001b[0m\n\u001b[0;31m    print(\"Everything works!\")\u001b[0m\n\u001b[0m        ^\u001b[0m\n\u001b[0;31mIndentationError\u001b[0m\u001b[0;31m:\u001b[0m expected an indented block\n"
     ]
    }
   ],
   "source": [
    "# Watch out the syntax!\n",
    "if 4 > 3:\n",
    "print(\"Everything works!\")"
   ]
  },
  {
   "cell_type": "markdown",
   "metadata": {},
   "source": [
    "### Nested Conditionals"
   ]
  },
  {
   "cell_type": "code",
   "execution_count": 12,
   "metadata": {},
   "outputs": [
    {
     "output_type": "stream",
     "name": "stdout",
     "text": [
      "You are allowed to drive!\n"
     ]
    }
   ],
   "source": [
    "age = 18\n",
    "if age > 17:\n",
    "   print(\"You are allowed to drive!\")"
   ]
  },
  {
   "cell_type": "code",
   "execution_count": 13,
   "metadata": {},
   "outputs": [
    {
     "output_type": "stream",
     "name": "stdout",
     "text": [
      "Hi Bob, you are authorized to enter!\n"
     ]
    }
   ],
   "source": [
    "Name = \"Bob\"\n",
    "if age > 13:\n",
    " if Name == \"Bob\":\n",
    "   print(\"Hi Bob, you are authorized to enter!\")\n",
    " else:\n",
    "   print(\"Sorry, you are not allowed to enter!\")"
   ]
  },
  {
   "cell_type": "code",
   "execution_count": 14,
   "metadata": {},
   "outputs": [
    {
     "output_type": "stream",
     "name": "stdout",
     "text": [
      "Ok Bob, you are allowed to enter!\n"
     ]
    }
   ],
   "source": [
    "age = 13\n",
    "Name = \"Bob\"\n",
    "if age >= 13 and Name == \"Bob\":\n",
    "    print(\"Ok Bob, you are allowed to enter!\")"
   ]
  },
  {
   "cell_type": "code",
   "execution_count": 15,
   "metadata": {},
   "outputs": [
    {
     "output_type": "stream",
     "name": "stdout",
     "text": [
      "Ok Bob, you are allowed to enter!\n"
     ]
    }
   ],
   "source": [
    "age = 12\n",
    "Name = \"Bob\"\n",
    "if (age >= 13) or (Name == \"Bob\"):\n",
    "    print(\"Ok Bob, you are allowed to enter!\")"
   ]
  },
  {
   "cell_type": "markdown",
   "metadata": {},
   "source": [
    "### Elif"
   ]
  },
  {
   "cell_type": "code",
   "execution_count": 16,
   "metadata": {},
   "outputs": [
    {
     "output_type": "stream",
     "name": "stdout",
     "text": [
      "Today will be rainy!\n"
     ]
    }
   ],
   "source": [
    "day = \"Tuesday\"\n",
    "if day == \"Monday\":\n",
    "  print(\"Today will be sunny!\")\n",
    "else:\n",
    "  print(\"Today will be rainy!\")"
   ]
  },
  {
   "cell_type": "code",
   "execution_count": 17,
   "metadata": {},
   "outputs": [
    {
     "output_type": "stream",
     "name": "stdout",
     "text": [
      "Today will be rainy!\n"
     ]
    }
   ],
   "source": [
    "if day == \"Monday\":\n",
    "  print(\"Today will be sunny!\")\n",
    "elif day == \"Tuesday\":\n",
    "  print(\"Today will be rainy!\")\n",
    "else:\n",
    "  print(\"There is no forecast for the selected day\")"
   ]
  },
  {
   "cell_type": "markdown",
   "metadata": {},
   "source": [
    "### Logical Operators"
   ]
  },
  {
   "cell_type": "code",
   "execution_count": 18,
   "metadata": {},
   "outputs": [
    {
     "output_type": "stream",
     "name": "stdout",
     "text": [
      "You are allowed to drive!\n"
     ]
    }
   ],
   "source": [
    "age = 18\n",
    "name = \"Bob\"\n",
    "if age > 17:\n",
    "   print(\"You are allowed to drive!\")"
   ]
  },
  {
   "cell_type": "code",
   "execution_count": 19,
   "metadata": {},
   "outputs": [
    {
     "output_type": "stream",
     "name": "stdout",
     "text": [
      "Authorized!\n"
     ]
    }
   ],
   "source": [
    "age = 18\n",
    "if age > 17 and name == \"Bob\":\n",
    "   print(\"Authorized!\")"
   ]
  },
  {
   "cell_type": "code",
   "execution_count": 21,
   "metadata": {},
   "outputs": [
    {
     "output_type": "stream",
     "name": "stdout",
     "text": [
      "You are approved!\n"
     ]
    }
   ],
   "source": [
    "# Using multiple conditions on if clauses\n",
    "\n",
    "course = input('Input the name of the course: ')\n",
    "finalGrade = input('Input the final grade (between 0 and 100): ')\n",
    "\n",
    "if course == 'Math' and finalGrade >= '70':\n",
    "    print('You are approved!')\n",
    "else:\n",
    "    print('Sorry, you need to study more!')"
   ]
  },
  {
   "cell_type": "code",
   "execution_count": 22,
   "metadata": {},
   "outputs": [
    {
     "output_type": "stream",
     "name": "stdout",
     "text": [
      "You are approved in Math with the final grade '50'!\n"
     ]
    }
   ],
   "source": [
    "# Using multiple conditions on if clause and introducing Placeholders\n",
    "\n",
    "course = input('Input the name of the course: ')\n",
    "finalGrade = input('Input the final grade (between 0 and 100): ')\n",
    "semester = input('Input the semester (1 to 4): ')\n",
    "\n",
    "if course == 'Math' and finalGrade >= '50' and int(semester) != 1:\n",
    "    print('You are approved in %s with the final grade %r!' %(course, finalGrade))\n",
    "else:\n",
    "    print('Sorry, you need to study more!')"
   ]
  }
 ],
 "metadata": {
  "kernelspec": {
   "display_name": "Python 3",
   "language": "python",
   "name": "python3"
  },
  "language_info": {
   "codemirror_mode": {
    "name": "ipython",
    "version": 3
   },
   "file_extension": ".py",
   "mimetype": "text/x-python",
   "name": "python",
   "nbconvert_exporter": "python",
   "pygments_lexer": "ipython3",
   "version": "3.7.6-final"
  }
 },
 "nbformat": 4,
 "nbformat_minor": 1
}