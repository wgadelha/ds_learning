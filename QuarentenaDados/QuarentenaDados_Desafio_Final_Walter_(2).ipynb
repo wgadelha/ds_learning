{
  "nbformat": 4,
  "nbformat_minor": 0,
  "metadata": {
    "colab": {
      "name": "QuarentenaDados - Desafio Final - Walter (2).ipynb",
      "provenance": [],
      "collapsed_sections": []
    },
    "kernelspec": {
      "name": "python3",
      "display_name": "Python 3"
    }
  },
  "cells": [
    {
      "cell_type": "markdown",
      "metadata": {
        "id": "yKPwAb_7p_lK",
        "colab_type": "text"
      },
      "source": [
        "# Desafio #QuarentenaDados\n",
        "\n",
        "Bem-vinda e bem-vindo ao desafio #QuarentenaDados valendo um **Nintendo Switch**!\n",
        "\n",
        "Esse notebook traz informações dos dados e como você deve configurar seu arquivo final para submissão.\n",
        "\n",
        "**Caso queira usar esse notebook como exemplo para desenvolver seu projeto, clique em file e escolha a opção Save a copy in Drive**\n"
      ]
    },
    {
      "cell_type": "markdown",
      "metadata": {
        "id": "o0faxOX8rZfp",
        "colab_type": "text"
      },
      "source": [
        "Vamos trabalhar com uma amostra aleatória da base de dados MICRODADOS ENEM 2018, essa amostra é **diferente da apresentada em aula**. Junto com a divulgação do resultado final estaremos disponibilizando o código que gerou os dados para que você possa analisar e reproduzir os datasets. \n",
        "\n",
        "Seu objetivo é prever da melhor forma possível a nota das provas de **linguagens e códigos** (NU_NOTA_LC), dado todas as outras notas. O modelo que tiver o menor **erro quadrático médio (MSE)** vence o desafio.\n",
        "\n",
        "Para o desafio você tem três bases à disposição, duas para desenvolver seu modelo e uma para submissão da predição. As bases são as seguintes:\n",
        "\n",
        "- **dados_treino**: São 1500000 linhas contendo a nota das 4 provas + nota de redação.\n",
        "\n",
        "- **dados_teste**: São 20000 linhas contendo com notas das 4 provas + nota de redação.\n",
        "\n",
        "- **dados_desafioqt**: São 10000 linhas com nota de 3 provas + nota de redação. A nota da prova de **Linguagem e Codigos** (NU_NOTA_LC) não está disponível nessa base.\n",
        "\n",
        "\n",
        "As base **dados_treino e dados_teste**, contém as seguintes colunas; **NU_NOTA_CN, NU_NOTA_CH, NU_NOTA_MT, NU_NOTA_REDACAO, NU_NOTA_LC** (Você pode consultar a aula 5, onde o Guilherme explica o significado das siglas). A coluna que você deve realizar a **previsão** é **NU_NOTA_LC**. Você pode manipular os dados da forma que quiser, o importante é que no final submeta o arquivo com as informações corretas (detalhes da submissão serão discutidos no final deste notebook).\n",
        "\n",
        "A base **dados_desafioqt**, contém as seguintes colunas; **ID, NU_NOTA_CN, NU_NOTA_CH, NU_NOTA_MT, NU_NOTA_REDACAO**. Repare que os dados **NU_NOTA_LC** não estão presentes, essa é justamente a informação que você precisa prever. Nós temos os valores reais das notas, no final do prazo de submissão um script irá avaliar sua previsão e dará uma nota para o seu modelo. Nessa base também temos o **ID**, essa informação é importante para o envio da sua previsão, garanta que a nota prevista corresponda ao respectivo **ID**.\n",
        "\n",
        "Se você está habituado com o desenvolvimento de modelos de ML, repare que essa divisão de dados é exatamente a mesma que Treino, Teste e Validação. \n",
        "\n",
        "Abaixo preparamos um código exemplo para você seguir, sinta-se à vontade para experimentar diversos outros métodos, mas **GARANTA QUE O ARQUIVO DE SUBMISSÃO ESTEJA CONFIGURADO CORRETAMENTE**.\n",
        "\n",
        "Na primeira parte, estamos lendo a base de dados direto de arquivos no github.\n",
        "\n",
        "\n",
        "\n",
        "\n"
      ]
    },
    {
      "cell_type": "code",
      "metadata": {
        "id": "c6cK3pPodiB1",
        "colab_type": "code",
        "colab": {}
      },
      "source": [
        "import pandas as pd\n",
        "\n",
        "URI_TREINO = \"https://github.com/tgcsantos/quaretenadados/blob/master/DADOS_TREINO.csv?raw=true\"\n",
        "URI_TESTE = \"https://github.com/tgcsantos/quaretenadados/raw/master/DADOS_TESTE.csv\"\n",
        "URI_DESAFIOQT = \"https://github.com/tgcsantos/quaretenadados/raw/master/DESAFIOQT.csv\"\n",
        "\n",
        "dados_treino = pd.read_csv(URI_TREINO)\n",
        "dados_teste = pd.read_csv(URI_TESTE)\n",
        "dados_desafioqt = pd.read_csv(URI_DESAFIOQT)\n",
        "\n",
        "erro_treino = \"Erro ao carregar dados de treino\"\n",
        "erro_teste = \"Erro ao carregar dados de teste\"\n",
        "erro_desafioqt = \"Erro ao carregar dados de submissão\"\n",
        "\n",
        "assert dados_treino.shape == (150000, 5), erro_treino\n",
        "assert dados_teste.shape == (20000, 5), erro_teste\n",
        "assert dados_desafioqt.shape == (10000, 5), erro_desafioqt"
      ],
      "execution_count": 0,
      "outputs": []
    },
    {
      "cell_type": "markdown",
      "metadata": {
        "id": "__4ltGhs54mv",
        "colab_type": "text"
      },
      "source": [
        "Agora com as bases de dados lidas, vamos separar as informações de cada dataset. X_treino e Y_treino são as **features**, X_teste e Y_teste são as **labels** a serem previstas.\n",
        "\n",
        "Duas observações nesta parte:\n",
        "\n",
        "- 1° Como já disponibilizamos os dados de treino e teste separados, você não precisa fazer *train_test_split* feito em aula (porém fique à vontade para trabalhar da forma que achar melhor).\n",
        "\n",
        "- 2° Transformamos X_treino, Y_treino, X_teste, Y_teste em arrays numpy. Se você quiser usar uma biblioteca que não aceite dataframe como entrada de dados, já deixamos pronto para você."
      ]
    },
    {
      "cell_type": "code",
      "metadata": {
        "id": "9WNonGUG_BCa",
        "colab_type": "code",
        "colab": {
          "base_uri": "https://localhost:8080/",
          "height": 419
        },
        "outputId": "5b6b3846-1e16-41fb-dfa2-3266ff97e743"
      },
      "source": [
        "dados_treino"
      ],
      "execution_count": 2,
      "outputs": [
        {
          "output_type": "execute_result",
          "data": {
            "text/html": [
              "<div>\n",
              "<style scoped>\n",
              "    .dataframe tbody tr th:only-of-type {\n",
              "        vertical-align: middle;\n",
              "    }\n",
              "\n",
              "    .dataframe tbody tr th {\n",
              "        vertical-align: top;\n",
              "    }\n",
              "\n",
              "    .dataframe thead th {\n",
              "        text-align: right;\n",
              "    }\n",
              "</style>\n",
              "<table border=\"1\" class=\"dataframe\">\n",
              "  <thead>\n",
              "    <tr style=\"text-align: right;\">\n",
              "      <th></th>\n",
              "      <th>NU_NOTA_CN</th>\n",
              "      <th>NU_NOTA_CH</th>\n",
              "      <th>NU_NOTA_LC</th>\n",
              "      <th>NU_NOTA_MT</th>\n",
              "      <th>NU_NOTA_REDACAO</th>\n",
              "    </tr>\n",
              "  </thead>\n",
              "  <tbody>\n",
              "    <tr>\n",
              "      <th>0</th>\n",
              "      <td>530.7</td>\n",
              "      <td>586.5</td>\n",
              "      <td>575.9</td>\n",
              "      <td>539.0</td>\n",
              "      <td>520.0</td>\n",
              "    </tr>\n",
              "    <tr>\n",
              "      <th>1</th>\n",
              "      <td>439.4</td>\n",
              "      <td>577.9</td>\n",
              "      <td>440.9</td>\n",
              "      <td>488.7</td>\n",
              "      <td>380.0</td>\n",
              "    </tr>\n",
              "    <tr>\n",
              "      <th>2</th>\n",
              "      <td>414.1</td>\n",
              "      <td>548.8</td>\n",
              "      <td>417.2</td>\n",
              "      <td>382.6</td>\n",
              "      <td>600.0</td>\n",
              "    </tr>\n",
              "    <tr>\n",
              "      <th>3</th>\n",
              "      <td>407.9</td>\n",
              "      <td>572.7</td>\n",
              "      <td>558.9</td>\n",
              "      <td>595.4</td>\n",
              "      <td>560.0</td>\n",
              "    </tr>\n",
              "    <tr>\n",
              "      <th>4</th>\n",
              "      <td>617.2</td>\n",
              "      <td>655.7</td>\n",
              "      <td>564.2</td>\n",
              "      <td>660.9</td>\n",
              "      <td>540.0</td>\n",
              "    </tr>\n",
              "    <tr>\n",
              "      <th>...</th>\n",
              "      <td>...</td>\n",
              "      <td>...</td>\n",
              "      <td>...</td>\n",
              "      <td>...</td>\n",
              "      <td>...</td>\n",
              "    </tr>\n",
              "    <tr>\n",
              "      <th>149995</th>\n",
              "      <td>587.8</td>\n",
              "      <td>644.1</td>\n",
              "      <td>621.4</td>\n",
              "      <td>714.4</td>\n",
              "      <td>840.0</td>\n",
              "    </tr>\n",
              "    <tr>\n",
              "      <th>149996</th>\n",
              "      <td>385.0</td>\n",
              "      <td>525.6</td>\n",
              "      <td>473.2</td>\n",
              "      <td>446.2</td>\n",
              "      <td>520.0</td>\n",
              "    </tr>\n",
              "    <tr>\n",
              "      <th>149997</th>\n",
              "      <td>471.0</td>\n",
              "      <td>558.7</td>\n",
              "      <td>582.4</td>\n",
              "      <td>542.9</td>\n",
              "      <td>460.0</td>\n",
              "    </tr>\n",
              "    <tr>\n",
              "      <th>149998</th>\n",
              "      <td>476.7</td>\n",
              "      <td>463.5</td>\n",
              "      <td>553.3</td>\n",
              "      <td>434.0</td>\n",
              "      <td>0.0</td>\n",
              "    </tr>\n",
              "    <tr>\n",
              "      <th>149999</th>\n",
              "      <td>637.8</td>\n",
              "      <td>611.5</td>\n",
              "      <td>533.9</td>\n",
              "      <td>731.7</td>\n",
              "      <td>600.0</td>\n",
              "    </tr>\n",
              "  </tbody>\n",
              "</table>\n",
              "<p>150000 rows × 5 columns</p>\n",
              "</div>"
            ],
            "text/plain": [
              "        NU_NOTA_CN  NU_NOTA_CH  NU_NOTA_LC  NU_NOTA_MT  NU_NOTA_REDACAO\n",
              "0            530.7       586.5       575.9       539.0            520.0\n",
              "1            439.4       577.9       440.9       488.7            380.0\n",
              "2            414.1       548.8       417.2       382.6            600.0\n",
              "3            407.9       572.7       558.9       595.4            560.0\n",
              "4            617.2       655.7       564.2       660.9            540.0\n",
              "...            ...         ...         ...         ...              ...\n",
              "149995       587.8       644.1       621.4       714.4            840.0\n",
              "149996       385.0       525.6       473.2       446.2            520.0\n",
              "149997       471.0       558.7       582.4       542.9            460.0\n",
              "149998       476.7       463.5       553.3       434.0              0.0\n",
              "149999       637.8       611.5       533.9       731.7            600.0\n",
              "\n",
              "[150000 rows x 5 columns]"
            ]
          },
          "metadata": {
            "tags": []
          },
          "execution_count": 2
        }
      ]
    },
    {
      "cell_type": "code",
      "metadata": {
        "id": "fW4fTAdW-eBR",
        "colab_type": "code",
        "colab": {
          "base_uri": "https://localhost:8080/",
          "height": 419
        },
        "outputId": "37565df5-e93c-4ba1-bcc8-025d3cd58c22"
      },
      "source": [
        "# substituindo os zeros pela mediana da coluna\n",
        "\n",
        "#dados_treino.replace(0,dados_treino.mean(axis=0),inplace=True)\n",
        "dados_treino.replace(0,dados_treino.mean(axis=0),inplace=True)\n",
        "dados_treino"
      ],
      "execution_count": 3,
      "outputs": [
        {
          "output_type": "execute_result",
          "data": {
            "text/html": [
              "<div>\n",
              "<style scoped>\n",
              "    .dataframe tbody tr th:only-of-type {\n",
              "        vertical-align: middle;\n",
              "    }\n",
              "\n",
              "    .dataframe tbody tr th {\n",
              "        vertical-align: top;\n",
              "    }\n",
              "\n",
              "    .dataframe thead th {\n",
              "        text-align: right;\n",
              "    }\n",
              "</style>\n",
              "<table border=\"1\" class=\"dataframe\">\n",
              "  <thead>\n",
              "    <tr style=\"text-align: right;\">\n",
              "      <th></th>\n",
              "      <th>NU_NOTA_CN</th>\n",
              "      <th>NU_NOTA_CH</th>\n",
              "      <th>NU_NOTA_LC</th>\n",
              "      <th>NU_NOTA_MT</th>\n",
              "      <th>NU_NOTA_REDACAO</th>\n",
              "    </tr>\n",
              "  </thead>\n",
              "  <tbody>\n",
              "    <tr>\n",
              "      <th>0</th>\n",
              "      <td>530.7</td>\n",
              "      <td>586.5</td>\n",
              "      <td>575.9</td>\n",
              "      <td>539.0</td>\n",
              "      <td>520.000000</td>\n",
              "    </tr>\n",
              "    <tr>\n",
              "      <th>1</th>\n",
              "      <td>439.4</td>\n",
              "      <td>577.9</td>\n",
              "      <td>440.9</td>\n",
              "      <td>488.7</td>\n",
              "      <td>380.000000</td>\n",
              "    </tr>\n",
              "    <tr>\n",
              "      <th>2</th>\n",
              "      <td>414.1</td>\n",
              "      <td>548.8</td>\n",
              "      <td>417.2</td>\n",
              "      <td>382.6</td>\n",
              "      <td>600.000000</td>\n",
              "    </tr>\n",
              "    <tr>\n",
              "      <th>3</th>\n",
              "      <td>407.9</td>\n",
              "      <td>572.7</td>\n",
              "      <td>558.9</td>\n",
              "      <td>595.4</td>\n",
              "      <td>560.000000</td>\n",
              "    </tr>\n",
              "    <tr>\n",
              "      <th>4</th>\n",
              "      <td>617.2</td>\n",
              "      <td>655.7</td>\n",
              "      <td>564.2</td>\n",
              "      <td>660.9</td>\n",
              "      <td>540.000000</td>\n",
              "    </tr>\n",
              "    <tr>\n",
              "      <th>...</th>\n",
              "      <td>...</td>\n",
              "      <td>...</td>\n",
              "      <td>...</td>\n",
              "      <td>...</td>\n",
              "      <td>...</td>\n",
              "    </tr>\n",
              "    <tr>\n",
              "      <th>149995</th>\n",
              "      <td>587.8</td>\n",
              "      <td>644.1</td>\n",
              "      <td>621.4</td>\n",
              "      <td>714.4</td>\n",
              "      <td>840.000000</td>\n",
              "    </tr>\n",
              "    <tr>\n",
              "      <th>149996</th>\n",
              "      <td>385.0</td>\n",
              "      <td>525.6</td>\n",
              "      <td>473.2</td>\n",
              "      <td>446.2</td>\n",
              "      <td>520.000000</td>\n",
              "    </tr>\n",
              "    <tr>\n",
              "      <th>149997</th>\n",
              "      <td>471.0</td>\n",
              "      <td>558.7</td>\n",
              "      <td>582.4</td>\n",
              "      <td>542.9</td>\n",
              "      <td>460.000000</td>\n",
              "    </tr>\n",
              "    <tr>\n",
              "      <th>149998</th>\n",
              "      <td>476.7</td>\n",
              "      <td>463.5</td>\n",
              "      <td>553.3</td>\n",
              "      <td>434.0</td>\n",
              "      <td>516.269867</td>\n",
              "    </tr>\n",
              "    <tr>\n",
              "      <th>149999</th>\n",
              "      <td>637.8</td>\n",
              "      <td>611.5</td>\n",
              "      <td>533.9</td>\n",
              "      <td>731.7</td>\n",
              "      <td>600.000000</td>\n",
              "    </tr>\n",
              "  </tbody>\n",
              "</table>\n",
              "<p>150000 rows × 5 columns</p>\n",
              "</div>"
            ],
            "text/plain": [
              "        NU_NOTA_CN  NU_NOTA_CH  NU_NOTA_LC  NU_NOTA_MT  NU_NOTA_REDACAO\n",
              "0            530.7       586.5       575.9       539.0       520.000000\n",
              "1            439.4       577.9       440.9       488.7       380.000000\n",
              "2            414.1       548.8       417.2       382.6       600.000000\n",
              "3            407.9       572.7       558.9       595.4       560.000000\n",
              "4            617.2       655.7       564.2       660.9       540.000000\n",
              "...            ...         ...         ...         ...              ...\n",
              "149995       587.8       644.1       621.4       714.4       840.000000\n",
              "149996       385.0       525.6       473.2       446.2       520.000000\n",
              "149997       471.0       558.7       582.4       542.9       460.000000\n",
              "149998       476.7       463.5       553.3       434.0       516.269867\n",
              "149999       637.8       611.5       533.9       731.7       600.000000\n",
              "\n",
              "[150000 rows x 5 columns]"
            ]
          },
          "metadata": {
            "tags": []
          },
          "execution_count": 3
        }
      ]
    },
    {
      "cell_type": "code",
      "metadata": {
        "id": "9wbWpqZgjLx4",
        "colab_type": "code",
        "colab": {}
      },
      "source": [
        "coluna_label = 'NU_NOTA_LC'\n",
        "coluna_features = ['NU_NOTA_CN', 'NU_NOTA_CH', 'NU_NOTA_MT', 'NU_NOTA_REDACAO']\n",
        "\n",
        "\n",
        "\n",
        "X_treino = dados_treino[coluna_features].to_numpy()\n",
        "Y_treino = dados_treino[coluna_label].to_numpy()\n",
        "X_teste = dados_teste[coluna_features].to_numpy()\n",
        "Y_teste = dados_teste[coluna_label].to_numpy()\n"
      ],
      "execution_count": 0,
      "outputs": []
    },
    {
      "cell_type": "markdown",
      "metadata": {
        "id": "_ewf2Px98qBH",
        "colab_type": "text"
      },
      "source": [
        "A seguir criamos um modelo **Dummy** como exemplo e realizamos a avaliação do modelo com o **mean_squared_error**. \n",
        "\n",
        "Você pode usar qualquer algoritmo ou biblioteca para criar seus modelos, mas garanta que fará a avaliação com o mean_squared_error, pois usaremos essa métrica para avaliar sua predição final."
      ]
    },
    {
      "cell_type": "code",
      "metadata": {
        "id": "n0Vz5ZeEli8m",
        "colab_type": "code",
        "outputId": "0223a177-f7b2-4cd8-93c9-396fcf672c7f",
        "colab": {
          "base_uri": "https://localhost:8080/",
          "height": 34
        }
      },
      "source": [
        "#Exemplo de classificação com Dummy\n",
        "from sklearn.dummy import DummyRegressor\n",
        "from sklearn.metrics import mean_squared_error\n",
        "\n",
        "modelo_dummy = DummyRegressor()\n",
        "modelo_dummy.fit(X_treino, Y_treino)\n",
        "dummy_predicoes = modelo_dummy.predict(X_teste)\n",
        "\n",
        "avaliacao_dummy = mean_squared_error(Y_teste, dummy_predicoes)\n",
        "\n",
        "print(f\"Minha avaliação nos dados de teste foi de {avaliacao_dummy}\")"
      ],
      "execution_count": 5,
      "outputs": [
        {
          "output_type": "stream",
          "text": [
            "Minha avaliação nos dados de teste foi de 5219.553345033778\n"
          ],
          "name": "stdout"
        }
      ]
    },
    {
      "cell_type": "code",
      "metadata": {
        "id": "zPyUN_PBrTpE",
        "colab_type": "code",
        "outputId": "51487261-6eb1-44ba-cb85-21e66e2b3258",
        "colab": {
          "base_uri": "https://localhost:8080/",
          "height": 782
        }
      },
      "source": [
        "# Verificar a existência de dados faltantes (NaN)\n",
        "colunas = ['NU_NOTA_CN', 'NU_NOTA_CH','NU_NOTA_LC', 'NU_NOTA_MT', 'NU_NOTA_REDACAO']\n",
        "for nota in colunas:\n",
        "  print(f\"Verificação isna() para {nota}:\")\n",
        "  print(dados_treino.isna().query(f'{nota} == True'))\n",
        "  print(f\"Verificação 'NaN' para {nota}\")\n",
        "  print(dados_treino.query(f\"{nota} == 'NaN'\"))\n",
        "  print()"
      ],
      "execution_count": 6,
      "outputs": [
        {
          "output_type": "stream",
          "text": [
            "Verificação isna() para NU_NOTA_CN:\n",
            "Empty DataFrame\n",
            "Columns: [NU_NOTA_CN, NU_NOTA_CH, NU_NOTA_LC, NU_NOTA_MT, NU_NOTA_REDACAO]\n",
            "Index: []\n",
            "Verificação 'NaN' para NU_NOTA_CN\n",
            "Empty DataFrame\n",
            "Columns: [NU_NOTA_CN, NU_NOTA_CH, NU_NOTA_LC, NU_NOTA_MT, NU_NOTA_REDACAO]\n",
            "Index: []\n",
            "\n",
            "Verificação isna() para NU_NOTA_CH:\n",
            "Empty DataFrame\n",
            "Columns: [NU_NOTA_CN, NU_NOTA_CH, NU_NOTA_LC, NU_NOTA_MT, NU_NOTA_REDACAO]\n",
            "Index: []\n",
            "Verificação 'NaN' para NU_NOTA_CH\n",
            "Empty DataFrame\n",
            "Columns: [NU_NOTA_CN, NU_NOTA_CH, NU_NOTA_LC, NU_NOTA_MT, NU_NOTA_REDACAO]\n",
            "Index: []\n",
            "\n",
            "Verificação isna() para NU_NOTA_LC:\n",
            "Empty DataFrame\n",
            "Columns: [NU_NOTA_CN, NU_NOTA_CH, NU_NOTA_LC, NU_NOTA_MT, NU_NOTA_REDACAO]\n",
            "Index: []\n",
            "Verificação 'NaN' para NU_NOTA_LC\n",
            "Empty DataFrame\n",
            "Columns: [NU_NOTA_CN, NU_NOTA_CH, NU_NOTA_LC, NU_NOTA_MT, NU_NOTA_REDACAO]\n",
            "Index: []\n",
            "\n",
            "Verificação isna() para NU_NOTA_MT:\n",
            "Empty DataFrame\n",
            "Columns: [NU_NOTA_CN, NU_NOTA_CH, NU_NOTA_LC, NU_NOTA_MT, NU_NOTA_REDACAO]\n",
            "Index: []\n",
            "Verificação 'NaN' para NU_NOTA_MT\n",
            "Empty DataFrame\n",
            "Columns: [NU_NOTA_CN, NU_NOTA_CH, NU_NOTA_LC, NU_NOTA_MT, NU_NOTA_REDACAO]\n",
            "Index: []\n",
            "\n",
            "Verificação isna() para NU_NOTA_REDACAO:\n",
            "Empty DataFrame\n",
            "Columns: [NU_NOTA_CN, NU_NOTA_CH, NU_NOTA_LC, NU_NOTA_MT, NU_NOTA_REDACAO]\n",
            "Index: []\n",
            "Verificação 'NaN' para NU_NOTA_REDACAO\n",
            "Empty DataFrame\n",
            "Columns: [NU_NOTA_CN, NU_NOTA_CH, NU_NOTA_LC, NU_NOTA_MT, NU_NOTA_REDACAO]\n",
            "Index: []\n",
            "\n"
          ],
          "name": "stdout"
        }
      ]
    },
    {
      "cell_type": "code",
      "metadata": {
        "id": "2AVxBrwRq9hA",
        "colab_type": "code",
        "outputId": "8497c668-6624-458e-a4dd-51940bb75d64",
        "colab": {
          "base_uri": "https://localhost:8080/",
          "height": 297
        }
      },
      "source": [
        "# Após verificada a inexistência de NaN\n",
        "# Avaliar as informações disponíveis para treino\n",
        "\n",
        "dados_treino.describe()"
      ],
      "execution_count": 7,
      "outputs": [
        {
          "output_type": "execute_result",
          "data": {
            "text/html": [
              "<div>\n",
              "<style scoped>\n",
              "    .dataframe tbody tr th:only-of-type {\n",
              "        vertical-align: middle;\n",
              "    }\n",
              "\n",
              "    .dataframe tbody tr th {\n",
              "        vertical-align: top;\n",
              "    }\n",
              "\n",
              "    .dataframe thead th {\n",
              "        text-align: right;\n",
              "    }\n",
              "</style>\n",
              "<table border=\"1\" class=\"dataframe\">\n",
              "  <thead>\n",
              "    <tr style=\"text-align: right;\">\n",
              "      <th></th>\n",
              "      <th>NU_NOTA_CN</th>\n",
              "      <th>NU_NOTA_CH</th>\n",
              "      <th>NU_NOTA_LC</th>\n",
              "      <th>NU_NOTA_MT</th>\n",
              "      <th>NU_NOTA_REDACAO</th>\n",
              "    </tr>\n",
              "  </thead>\n",
              "  <tbody>\n",
              "    <tr>\n",
              "      <th>count</th>\n",
              "      <td>150000.000000</td>\n",
              "      <td>150000.000000</td>\n",
              "      <td>150000.000000</td>\n",
              "      <td>150000.000000</td>\n",
              "      <td>150000.000000</td>\n",
              "    </tr>\n",
              "    <tr>\n",
              "      <th>mean</th>\n",
              "      <td>493.946412</td>\n",
              "      <td>571.349643</td>\n",
              "      <td>528.734791</td>\n",
              "      <td>535.679274</td>\n",
              "      <td>526.825865</td>\n",
              "    </tr>\n",
              "    <tr>\n",
              "      <th>std</th>\n",
              "      <td>73.968036</td>\n",
              "      <td>77.220425</td>\n",
              "      <td>71.622089</td>\n",
              "      <td>102.866163</td>\n",
              "      <td>168.599056</td>\n",
              "    </tr>\n",
              "    <tr>\n",
              "      <th>min</th>\n",
              "      <td>362.500000</td>\n",
              "      <td>304.200000</td>\n",
              "      <td>318.800000</td>\n",
              "      <td>364.400000</td>\n",
              "      <td>40.000000</td>\n",
              "    </tr>\n",
              "    <tr>\n",
              "      <th>25%</th>\n",
              "      <td>435.800000</td>\n",
              "      <td>513.600000</td>\n",
              "      <td>478.000000</td>\n",
              "      <td>455.500000</td>\n",
              "      <td>380.000000</td>\n",
              "    </tr>\n",
              "    <tr>\n",
              "      <th>50%</th>\n",
              "      <td>483.600000</td>\n",
              "      <td>584.900000</td>\n",
              "      <td>533.400000</td>\n",
              "      <td>516.800000</td>\n",
              "      <td>520.000000</td>\n",
              "    </tr>\n",
              "    <tr>\n",
              "      <th>75%</th>\n",
              "      <td>542.500000</td>\n",
              "      <td>629.600000</td>\n",
              "      <td>581.400000</td>\n",
              "      <td>600.900000</td>\n",
              "      <td>640.000000</td>\n",
              "    </tr>\n",
              "    <tr>\n",
              "      <th>max</th>\n",
              "      <td>869.600000</td>\n",
              "      <td>825.800000</td>\n",
              "      <td>787.400000</td>\n",
              "      <td>996.100000</td>\n",
              "      <td>1000.000000</td>\n",
              "    </tr>\n",
              "  </tbody>\n",
              "</table>\n",
              "</div>"
            ],
            "text/plain": [
              "          NU_NOTA_CN     NU_NOTA_CH  ...     NU_NOTA_MT  NU_NOTA_REDACAO\n",
              "count  150000.000000  150000.000000  ...  150000.000000    150000.000000\n",
              "mean      493.946412     571.349643  ...     535.679274       526.825865\n",
              "std        73.968036      77.220425  ...     102.866163       168.599056\n",
              "min       362.500000     304.200000  ...     364.400000        40.000000\n",
              "25%       435.800000     513.600000  ...     455.500000       380.000000\n",
              "50%       483.600000     584.900000  ...     516.800000       520.000000\n",
              "75%       542.500000     629.600000  ...     600.900000       640.000000\n",
              "max       869.600000     825.800000  ...     996.100000      1000.000000\n",
              "\n",
              "[8 rows x 5 columns]"
            ]
          },
          "metadata": {
            "tags": []
          },
          "execution_count": 7
        }
      ]
    },
    {
      "cell_type": "code",
      "metadata": {
        "id": "eHQf6rVHrHJo",
        "colab_type": "code",
        "outputId": "b1e4556d-e009-4c0d-f02e-32933ae25148",
        "colab": {
          "base_uri": "https://localhost:8080/",
          "height": 283
        }
      },
      "source": [
        "dados_treino.boxplot()"
      ],
      "execution_count": 8,
      "outputs": [
        {
          "output_type": "execute_result",
          "data": {
            "text/plain": [
              "<matplotlib.axes._subplots.AxesSubplot at 0x7f4318af8780>"
            ]
          },
          "metadata": {
            "tags": []
          },
          "execution_count": 8
        },
        {
          "output_type": "display_data",
          "data": {
            "image/png": "[encoded data removed]",
            "text/plain": [
              "<Figure size 432x288 with 1 Axes>"
            ]
          },
          "metadata": {
            "tags": [],
            "needs_background": "light"
          }
        }
      ]
    },
    {
      "cell_type": "code",
      "metadata": {
        "id": "toxtV0psphD1",
        "colab_type": "code",
        "outputId": "93c4aab5-1de2-4235-d2b7-7ede68015811",
        "colab": {
          "base_uri": "https://localhost:8080/",
          "height": 156
        }
      },
      "source": [
        "%%time\n",
        "# Classificação utilizando Linear Regressor (valores default)\n",
        "# Ref: https://scikit-learn.org/stable/modules/generated/sklearn.svm.LinearSVR.html\n",
        "from sklearn.svm import LinearSVR\n",
        "\n",
        "modelo_linear = LinearSVR()\n",
        "modelo_linear.fit(X_treino, Y_treino)\n",
        "\n",
        "linear_predic = modelo_linear.predict(X_teste)\n",
        "\n",
        "aval_linear = mean_squared_error(Y_teste, linear_predic)\n",
        "\n",
        "print(f\"\\nMinha avaliação nos dados de teste foi de {aval_linear}\\n\")"
      ],
      "execution_count": 9,
      "outputs": [
        {
          "output_type": "stream",
          "text": [
            "\n",
            "Minha avaliação nos dados de teste foi de 5296.537291690569\n",
            "\n",
            "CPU times: user 15.8 s, sys: 8.35 ms, total: 15.8 s\n",
            "Wall time: 15.8 s\n"
          ],
          "name": "stdout"
        },
        {
          "output_type": "stream",
          "text": [
            "/usr/local/lib/python3.6/dist-packages/sklearn/svm/_base.py:947: ConvergenceWarning: Liblinear failed to converge, increase the number of iterations.\n",
            "  \"the number of iterations.\", ConvergenceWarning)\n"
          ],
          "name": "stderr"
        }
      ]
    },
    {
      "cell_type": "code",
      "metadata": {
        "id": "khDqyCXJtyg0",
        "colab_type": "code",
        "outputId": "9a398dfb-71ae-4a3a-d561-fd5afa398a7b",
        "colab": {
          "base_uri": "https://localhost:8080/",
          "height": 887
        }
      },
      "source": [
        "%%time\n",
        "# Classificação utilizando Linear Regressor (alterando valores: C, max_iter)\n",
        "# Ref: https://scikit-learn.org/stable/modules/generated/sklearn.svm.LinearSVR.html\n",
        "from sklearn.svm import LinearSVR\n",
        "import pandas as pd\n",
        "\n",
        "C_list=[0.1,0.25,0.33,0.5,0.75]\n",
        "max_iter_list=[2000, 5000, 10000]\n",
        "MSEmin=100000\n",
        "\n",
        "for C_val in C_list:\n",
        "  for max_val in max_iter_list:\n",
        "    modelo_linear = LinearSVR(C= C_val, max_iter= max_val)\n",
        "    modelo_linear.fit(X_treino, Y_treino)\n",
        "\n",
        "    linear_predic = modelo_linear.predict(X_teste)\n",
        "\n",
        "    aval_linear = mean_squared_error(Y_teste, linear_predic)\n",
        "    if aval_linear < MSEmin:\n",
        "      print(f\"\\nMSE: {aval_linear} para C={C_val} e max_iter={max_val}\\n\")\n"
      ],
      "execution_count": 0,
      "outputs": [
        {
          "output_type": "stream",
          "text": [
            "/usr/local/lib/python3.6/dist-packages/sklearn/svm/_base.py:947: ConvergenceWarning: Liblinear failed to converge, increase the number of iterations.\n",
            "  \"the number of iterations.\", ConvergenceWarning)\n"
          ],
          "name": "stderr"
        },
        {
          "output_type": "stream",
          "text": [
            "\n",
            "MSE: 2272.4684901194387 para C=0.1 e max_iter=2000\n",
            "\n"
          ],
          "name": "stdout"
        },
        {
          "output_type": "stream",
          "text": [
            "/usr/local/lib/python3.6/dist-packages/sklearn/svm/_base.py:947: ConvergenceWarning: Liblinear failed to converge, increase the number of iterations.\n",
            "  \"the number of iterations.\", ConvergenceWarning)\n"
          ],
          "name": "stderr"
        },
        {
          "output_type": "stream",
          "text": [
            "\n",
            "MSE: 2190.7544119756976 para C=0.1 e max_iter=5000\n",
            "\n"
          ],
          "name": "stdout"
        },
        {
          "output_type": "stream",
          "text": [
            "/usr/local/lib/python3.6/dist-packages/sklearn/svm/_base.py:947: ConvergenceWarning: Liblinear failed to converge, increase the number of iterations.\n",
            "  \"the number of iterations.\", ConvergenceWarning)\n"
          ],
          "name": "stderr"
        },
        {
          "output_type": "stream",
          "text": [
            "\n",
            "MSE: 2259.962585369369 para C=0.1 e max_iter=10000\n",
            "\n"
          ],
          "name": "stdout"
        },
        {
          "output_type": "stream",
          "text": [
            "/usr/local/lib/python3.6/dist-packages/sklearn/svm/_base.py:947: ConvergenceWarning: Liblinear failed to converge, increase the number of iterations.\n",
            "  \"the number of iterations.\", ConvergenceWarning)\n"
          ],
          "name": "stderr"
        },
        {
          "output_type": "stream",
          "text": [
            "\n",
            "MSE: 2634.0785709972906 para C=0.25 e max_iter=2000\n",
            "\n"
          ],
          "name": "stdout"
        },
        {
          "output_type": "stream",
          "text": [
            "/usr/local/lib/python3.6/dist-packages/sklearn/svm/_base.py:947: ConvergenceWarning: Liblinear failed to converge, increase the number of iterations.\n",
            "  \"the number of iterations.\", ConvergenceWarning)\n"
          ],
          "name": "stderr"
        },
        {
          "output_type": "stream",
          "text": [
            "\n",
            "MSE: 2743.5818654465475 para C=0.25 e max_iter=5000\n",
            "\n"
          ],
          "name": "stdout"
        },
        {
          "output_type": "stream",
          "text": [
            "/usr/local/lib/python3.6/dist-packages/sklearn/svm/_base.py:947: ConvergenceWarning: Liblinear failed to converge, increase the number of iterations.\n",
            "  \"the number of iterations.\", ConvergenceWarning)\n"
          ],
          "name": "stderr"
        },
        {
          "output_type": "stream",
          "text": [
            "\n",
            "MSE: 2548.1700024559923 para C=0.25 e max_iter=10000\n",
            "\n"
          ],
          "name": "stdout"
        },
        {
          "output_type": "stream",
          "text": [
            "/usr/local/lib/python3.6/dist-packages/sklearn/svm/_base.py:947: ConvergenceWarning: Liblinear failed to converge, increase the number of iterations.\n",
            "  \"the number of iterations.\", ConvergenceWarning)\n"
          ],
          "name": "stderr"
        },
        {
          "output_type": "stream",
          "text": [
            "\n",
            "MSE: 2196.9296645893155 para C=0.33 e max_iter=2000\n",
            "\n"
          ],
          "name": "stdout"
        },
        {
          "output_type": "stream",
          "text": [
            "/usr/local/lib/python3.6/dist-packages/sklearn/svm/_base.py:947: ConvergenceWarning: Liblinear failed to converge, increase the number of iterations.\n",
            "  \"the number of iterations.\", ConvergenceWarning)\n"
          ],
          "name": "stderr"
        },
        {
          "output_type": "stream",
          "text": [
            "\n",
            "MSE: 3170.3323593307746 para C=0.33 e max_iter=5000\n",
            "\n"
          ],
          "name": "stdout"
        },
        {
          "output_type": "stream",
          "text": [
            "/usr/local/lib/python3.6/dist-packages/sklearn/svm/_base.py:947: ConvergenceWarning: Liblinear failed to converge, increase the number of iterations.\n",
            "  \"the number of iterations.\", ConvergenceWarning)\n"
          ],
          "name": "stderr"
        },
        {
          "output_type": "stream",
          "text": [
            "\n",
            "MSE: 2325.6254300905075 para C=0.33 e max_iter=10000\n",
            "\n"
          ],
          "name": "stdout"
        },
        {
          "output_type": "stream",
          "text": [
            "/usr/local/lib/python3.6/dist-packages/sklearn/svm/_base.py:947: ConvergenceWarning: Liblinear failed to converge, increase the number of iterations.\n",
            "  \"the number of iterations.\", ConvergenceWarning)\n"
          ],
          "name": "stderr"
        },
        {
          "output_type": "stream",
          "text": [
            "\n",
            "MSE: 3680.7807761827157 para C=0.5 e max_iter=2000\n",
            "\n"
          ],
          "name": "stdout"
        }
      ]
    },
    {
      "cell_type": "code",
      "metadata": {
        "id": "8zXfe6lao4TP",
        "colab_type": "code",
        "colab": {
          "base_uri": "https://localhost:8080/",
          "height": 102
        },
        "outputId": "aee6ba34-f105-4db4-8089-5ea07c03ae21"
      },
      "source": [
        "%%time\n",
        "# Classificação utilizando SGD Regressor (default)\n",
        "# Ref: https://scikit-learn.org/stable/modules/generated/sklearn.linear_model.SGDRegressor.html\n",
        "from sklearn import linear_model\n",
        "\n",
        "modelo_SGD = linear_model.SGDRegressor()\n",
        "modelo_SGD.fit(X_treino, Y_treino)\n",
        "\n",
        "linear_SGD = modelo_SGD.predict(X_teste)\n",
        "\n",
        "aval_linear = mean_squared_error(Y_teste, linear_SGD)\n",
        "\n",
        "print(f\"\\nMinha avaliação nos dados de teste foi de {aval_linear}\\n\")"
      ],
      "execution_count": 15,
      "outputs": [
        {
          "output_type": "stream",
          "text": [
            "\n",
            "Minha avaliação nos dados de teste foi de 7.807722942139572e+27\n",
            "\n",
            "CPU times: user 12.2 s, sys: 2.86 ms, total: 12.2 s\n",
            "Wall time: 12.2 s\n"
          ],
          "name": "stdout"
        }
      ]
    },
    {
      "cell_type": "code",
      "metadata": {
        "id": "V0t-0pP8pFuh",
        "colab_type": "code",
        "colab": {
          "base_uri": "https://localhost:8080/",
          "height": 102
        },
        "outputId": "aa8676fb-4e1c-427a-a802-54606f7bc200"
      },
      "source": [
        "%%time\n",
        "# Classificação utilizando ElasticNet Lasso\n",
        "# Ref: https://scikit-learn.org/stable/modules/generated/sklearn.linear_model.ElasticNet.html\n",
        "from sklearn.linear_model import ElasticNet\n",
        "\n",
        "modelo_ENLasso = linear_model.ElasticNet(random_state=0)\n",
        "modelo_ENLasso.fit(X_treino, Y_treino)\n",
        "\n",
        "linear_ENL = modelo_ENLasso.predict(X_teste)\n",
        "\n",
        "aval_linear = mean_squared_error(Y_teste, linear_ENL)\n",
        "\n",
        "print(f\"\\nMinha avaliação nos dados de teste foi de {aval_linear}\\n\")"
      ],
      "execution_count": 16,
      "outputs": [
        {
          "output_type": "stream",
          "text": [
            "\n",
            "Minha avaliação nos dados de teste foi de 2177.8649197062614\n",
            "\n",
            "CPU times: user 30.8 ms, sys: 7.04 ms, total: 37.8 ms\n",
            "Wall time: 34.9 ms\n"
          ],
          "name": "stdout"
        }
      ]
    },
    {
      "cell_type": "code",
      "metadata": {
        "id": "wcmaG6FspKec",
        "colab_type": "code",
        "colab": {}
      },
      "source": [
        "%%time\n",
        "# Classificação utilizando SVR kernel=\"rbf\" - if doesn't work -> kernel=\"linear\"\n",
        "# Ref: https://scikit-learn.org/stable/modules/generated/sklearn.svm.SVR.html\n",
        "#from sklearn.svm import SVR\n",
        "\n",
        "#modelo_SVR = SVR(C=1.0, epsilon=0.2)\n",
        "#modelo_SVR.fit(X_treino, Y_treino)\n",
        "\n",
        "#linear_SVR = modelo_SVR.predict(X_teste)\n",
        "\n",
        "#aval_linear = mean_squared_error(Y_teste, linear_SVR)\n",
        "\n",
        "#print(f\"\\nMinha avaliação nos dados de teste foi de {aval_linear}\\n\")"
      ],
      "execution_count": 0,
      "outputs": []
    },
    {
      "cell_type": "code",
      "metadata": {
        "id": "-AOk2xn22Jf2",
        "colab_type": "code",
        "colab": {}
      },
      "source": [
        "%%time\n",
        "# Classificação utilizando SVR kernel=\"rbf\" - if doesn't work -> kernel=\"linear\"\n",
        "# Ref: https://scikit-learn.org/stable/modules/generated/sklearn.svm.SVR.html\n",
        "from sklearn.svm import SVR\n",
        "\n",
        "modelo_SVR = SVR(kernel='linear', C=1.0, epsilon=0.2)\n",
        "modelo_SVR.fit(X_treino, Y_treino)\n",
        "\n",
        "linear_SVR = modelo_SVR.predict(X_teste)\n",
        "\n",
        "aval_linear = mean_squared_error(Y_teste, linear_SVR)\n",
        "\n",
        "print(f\"\\nMinha avaliação nos dados de teste foi de {aval_linear}\\n\")"
      ],
      "execution_count": 0,
      "outputs": []
    },
    {
      "cell_type": "markdown",
      "metadata": {
        "id": "7KTYF7ntCbWQ",
        "colab_type": "text"
      },
      "source": [
        "Depois que você criou testou e validou seu modelo, chegou a hora de preparar seu arquivo para a submissão do resultado.\n",
        "\n",
        "No código abaixo, estamos realizando a predição das notas de **linguagem e códigos** do dataset **dados_desafioqt**. Feita a previsão, criamos um dataframe novo para a submissão, primeiro crimos a coluna **ID** e adicionamos a coluna **NU_NOTA_LC** com suas respectivas previsões (repare que nosso modelo não alterou as ordens dos ID's, mas se você utilizar algum modelo que embaralhe essa ordem certifique de colocar a previsão correta para o ID correto).\n",
        "\n",
        "Após isso, salvamos o dataframe com ´.to_csv()´ (**importante, passe o parâmetro index=False para `.to_csv()`, caso contrário nosso script não computará sua nota**) no arquivo **PREDICAO_DESAFIOQT.csv (você precisa submeter o arquivo com esse nome, caso contrário nosso script de avaliação não computará sua nota**)  e utilizamos o `files.download` para baixar o arquivo em sua máquina local.\n",
        "\n",
        "Feito tudo isso você está quase pronto para finalizar e submeter seu resultado. Você já baixou os dados, treinou e validou seu modelo, salvou sua previsão **no padrão ideal para submissão** e já está com o modelo baixado em sua máquina. Entretanto, ainda falta um detalhe: no momento de preencher o **forms** você precisa enviar seu código. Caso esteja usando os notebooks do colab siga as seguintes instruções para o download:\n",
        "\n",
        "- Clique em **File** na parte superior esquerda.\n",
        "- Depois selecione a opção **Download .ipynb** (também aceitaremos o .py caso você prefira desenvolver seu projeto em um arquivo python).\n",
        "\n",
        "\n",
        "Pronto agora é só submeter seu resultado e torcer para levar um **Nintendo Switch** para casa.\n",
        "\n",
        "Boa sorte!"
      ]
    },
    {
      "cell_type": "code",
      "metadata": {
        "id": "F5_zbGU1EQm4",
        "colab_type": "code",
        "colab": {}
      },
      "source": [
        "#atribuir ao MODELO o nome do seu melhor modelo\n",
        "from google.colab import files\n",
        "\n",
        "MODELO = modelo_dummy\n",
        "X_desafioqt = dados_desafioqt[coluna_features].to_numpy()\n",
        "predicao_desafioqt = MODELO.predict(X_desafioqt)\n",
        "\n",
        "\n",
        "desafio_df = pd.DataFrame(dados_desafioqt.ID)\n",
        "desafio_df[coluna_label] = predicao_desafioqt\n",
        "\n",
        "#NÃO TROCAR O NOME DO ARQUIVO DE SAÍDA (PREDICAO_DESAFIO)\n",
        "desafio_df.to_csv('PREDICAO_DESAFIOQT.csv', index=False) \n",
        "files.download('PREDICAO_DESAFIOQT.csv')\n",
        "\n"
      ],
      "execution_count": 0,
      "outputs": []
    }
  ]
}