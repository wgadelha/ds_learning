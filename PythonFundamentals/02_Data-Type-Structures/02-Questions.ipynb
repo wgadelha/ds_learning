{
 "cells": [
  {
   "cell_type": "markdown",
   "metadata": {},
   "source": [
    "# <font color='blue'>Python Fundamentals - Data Type and Structures Questions</font>\n",
    "\n",
    "## Based on: http://github.com/dsacademybr"
   ]
  },
  {
   "cell_type": "code",
   "execution_count": 1,
   "metadata": {},
   "outputs": [
    {
     "output_type": "stream",
     "name": "stdout",
     "text": [
      "Python version used in this Jupyter notebook: 3.7.6\n"
     ]
    }
   ],
   "source": [
    "# Python version\n",
    "from platform import python_version\n",
    "print('Python version used in this Jupyter notebook:', python_version())"
   ]
  },
  {
   "cell_type": "markdown",
   "metadata": {},
   "source": [
    "## Questions"
   ]
  },
  {
   "cell_type": "code",
   "execution_count": 2,
   "metadata": {},
   "outputs": [],
   "source": [
    "# Question 1 - Print all numbers from 1 to 10. Use a list to store the numbers."
   ]
  },
  {
   "cell_type": "code",
   "execution_count": 3,
   "metadata": {},
   "outputs": [
    {
     "output_type": "stream",
     "name": "stdout",
     "text": [
      "[1, 2, 3, 4, 5, 6, 7, 8, 9, 10]\n"
     ]
    }
   ],
   "source": [
    "numbers = [1,2,3,4,5,6,7,8,9,10]\n",
    "print(numbers)"
   ]
  },
  {
   "cell_type": "code",
   "execution_count": 4,
   "metadata": {},
   "outputs": [],
   "source": [
    "# Question 2 - Create a list with 5 objects and print it"
   ]
  },
  {
   "cell_type": "code",
   "execution_count": 5,
   "metadata": {},
   "outputs": [
    {
     "output_type": "stream",
     "name": "stdout",
     "text": [
      "['car', 'bicycle', 'skate', 'motorcycle', 'bus']\n"
     ]
    }
   ],
   "source": [
    "objects = ['car','bicycle','skate','motorcycle','bus']\n",
    "print(objects)"
   ]
  },
  {
   "cell_type": "code",
   "execution_count": 6,
   "metadata": {},
   "outputs": [],
   "source": [
    "# Question 3 - Create two strings and concatenate into a third string"
   ]
  },
  {
   "cell_type": "code",
   "execution_count": 7,
   "metadata": {},
   "outputs": [
    {
     "output_type": "stream",
     "name": "stdout",
     "text": [
      "String Concatenation Test\n"
     ]
    }
   ],
   "source": [
    "string1 = \" Concatenation\"\n",
    "string2 = \" Test\"\n",
    "string = \"String\" + string1 + string2\n",
    "print (string)"
   ]
  },
  {
   "cell_type": "code",
   "execution_count": 8,
   "metadata": {},
   "outputs": [],
   "source": [
    "# Question 4 - Create a tuple with the following elements: 1, 2, 2, 3, 4, 4, 4, 5 and then use the function count()\n",
    "# to verify how many 4's are in the tuple"
   ]
  },
  {
   "cell_type": "code",
   "execution_count": 9,
   "metadata": {},
   "outputs": [
    {
     "output_type": "stream",
     "name": "stdout",
     "text": [
      "3\n"
     ]
    }
   ],
   "source": [
    "tpl1 = (1,2,2,3,4,4,4,5)\n",
    "print(tpl1.count(4))"
   ]
  },
  {
   "cell_type": "code",
   "execution_count": 10,
   "metadata": {},
   "outputs": [],
   "source": [
    "# Question 5 - Create an empty dictionary and print it"
   ]
  },
  {
   "cell_type": "code",
   "execution_count": 11,
   "metadata": {},
   "outputs": [
    {
     "output_type": "stream",
     "name": "stdout",
     "text": [
      "{}\n"
     ]
    }
   ],
   "source": [
    "emptyDict = {}\n",
    "print(emptyDict)"
   ]
  },
  {
   "cell_type": "code",
   "execution_count": 12,
   "metadata": {},
   "outputs": [],
   "source": [
    "# Question 6 - Create a dictionary with 3 keys and 3 values and print it"
   ]
  },
  {
   "cell_type": "code",
   "execution_count": 13,
   "metadata": {},
   "outputs": [
    {
     "output_type": "stream",
     "name": "stdout",
     "text": [
      "{'London': 'UK', 'Brasilia': 'BR', 'Paris': 'FR'}\n"
     ]
    }
   ],
   "source": [
    "newDict = {\"London\": \"UK\", \"Brasilia\": \"BR\", \"Paris\": \"FR\"}\n",
    "print(newDict)"
   ]
  },
  {
   "cell_type": "code",
   "execution_count": 14,
   "metadata": {},
   "outputs": [],
   "source": [
    "# Question 7 - Add one more element to the dictionary created previouslly and print it"
   ]
  },
  {
   "cell_type": "code",
   "execution_count": 15,
   "metadata": {},
   "outputs": [
    {
     "output_type": "stream",
     "name": "stdout",
     "text": [
      "{'London': 'UK', 'Brasilia': 'BR', 'Paris': 'FR', 'Lisboa': 'PT'}\n"
     ]
    }
   ],
   "source": [
    "newDict[\"Lisboa\"] = \"PT\"\n",
    "print(newDict)"
   ]
  },
  {
   "cell_type": "code",
   "execution_count": 16,
   "metadata": {},
   "outputs": [],
   "source": [
    "# Question 8 - Create a dictionary with 3 keys and 3 values. One of the values must be a list with 2 numeric elements. \n",
    "# Print the dictionary."
   ]
  },
  {
   "cell_type": "code",
   "execution_count": 17,
   "metadata": {},
   "outputs": [
    {
     "output_type": "stream",
     "name": "stdout",
     "text": [
      "{'key1': 1024, 'key2': [10, 20], 'key3': 'Dictionary'}\n"
     ]
    }
   ],
   "source": [
    "altDict={\"key1\": 1024, \"key2\": [10,20], \"key3\": \"Dictionary\"}\n",
    "print(altDict)"
   ]
  },
  {
   "cell_type": "code",
   "execution_count": 18,
   "metadata": {},
   "outputs": [],
   "source": [
    "# Question 9 - Create a list with 4 elements. The first element must be a string, the second one a two elements tuple,\n",
    "# the third one a dictionary with 2 keys and 2 values and the fourth one a float value.\n",
    "# Print the dictionary."
   ]
  },
  {
   "cell_type": "code",
   "execution_count": 19,
   "metadata": {},
   "outputs": [
    {
     "output_type": "stream",
     "name": "stdout",
     "text": [
      "['strings', (10, 20), {'key1': 1024, 'key2': 512}, 5.2]\n"
     ]
    }
   ],
   "source": [
    "multList = [\"strings\", (10,20), {\"key1\": 1024, \"key2\": 512}, 5.2]\n",
    "print(multList)"
   ]
  },
  {
   "cell_type": "code",
   "execution_count": 20,
   "metadata": {},
   "outputs": [],
   "source": [
    "# Question 10 - For the following phrase. Print only the characters from position 1 to 18.\n",
    "phrase = 'Cientista de Dados é o profissional mais sexy do século XXI'"
   ]
  },
  {
   "cell_type": "code",
   "execution_count": 21,
   "metadata": {},
   "outputs": [
    {
     "output_type": "stream",
     "name": "stdout",
     "text": [
      "Cientista de Dados\n"
     ]
    }
   ],
   "source": [
    "print(phrase[0:18])"
   ]
  }
 ],
 "metadata": {
  "kernelspec": {
   "display_name": "Python 3",
   "language": "python",
   "name": "python3"
  },
  "language_info": {
   "codemirror_mode": {
    "name": "ipython",
    "version": 3
   },
   "file_extension": ".py",
   "mimetype": "text/x-python",
   "name": "python",
   "nbconvert_exporter": "python",
   "pygments_lexer": "ipython3",
   "version": "3.7.6-final"
  }
 },
 "nbformat": 4,
 "nbformat_minor": 1
}