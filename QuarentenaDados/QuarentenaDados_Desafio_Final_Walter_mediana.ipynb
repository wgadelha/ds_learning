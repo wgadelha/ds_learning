{
  "nbformat": 4,
  "nbformat_minor": 0,
  "metadata": {
    "colab": {
      "name": "QuarentenaDados - Desafio Final - Walter_mediana.ipynb",
      "provenance": [],
      "collapsed_sections": []
    },
    "kernelspec": {
      "name": "python3",
      "display_name": "Python 3"
    }
  },
  "cells": [
    {
      "cell_type": "markdown",
      "metadata": {
        "id": "yKPwAb_7p_lK",
        "colab_type": "text"
      },
      "source": [
        "# Desafio #QuarentenaDados\n",
        "\n",
        "Bem-vinda e bem-vindo ao desafio #QuarentenaDados valendo um **Nintendo Switch**!\n",
        "\n",
        "Esse notebook traz informações dos dados e como você deve configurar seu arquivo final para submissão.\n",
        "\n",
        "**Caso queira usar esse notebook como exemplo para desenvolver seu projeto, clique em file e escolha a opção Save a copy in Drive**\n"
      ]
    },
    {
      "cell_type": "markdown",
      "metadata": {
        "id": "o0faxOX8rZfp",
        "colab_type": "text"
      },
      "source": [
        "Vamos trabalhar com uma amostra aleatória da base de dados MICRODADOS ENEM 2018, essa amostra é **diferente da apresentada em aula**. Junto com a divulgação do resultado final estaremos disponibilizando o código que gerou os dados para que você possa analisar e reproduzir os datasets. \n",
        "\n",
        "Seu objetivo é prever da melhor forma possível a nota das provas de **linguagens e códigos** (NU_NOTA_LC), dado todas as outras notas. O modelo que tiver o menor **erro quadrático médio (MSE)** vence o desafio.\n",
        "\n",
        "Para o desafio você tem três bases à disposição, duas para desenvolver seu modelo e uma para submissão da predição. As bases são as seguintes:\n",
        "\n",
        "- **dados_treino**: São 1500000 linhas contendo a nota das 4 provas + nota de redação.\n",
        "\n",
        "- **dados_teste**: São 20000 linhas contendo com notas das 4 provas + nota de redação.\n",
        "\n",
        "- **dados_desafioqt**: São 10000 linhas com nota de 3 provas + nota de redação. A nota da prova de **Linguagem e Codigos** (NU_NOTA_LC) não está disponível nessa base.\n",
        "\n",
        "\n",
        "As base **dados_treino e dados_teste**, contém as seguintes colunas; **NU_NOTA_CN, NU_NOTA_CH, NU_NOTA_MT, NU_NOTA_REDACAO, NU_NOTA_LC** (Você pode consultar a aula 5, onde o Guilherme explica o significado das siglas). A coluna que você deve realizar a **previsão** é **NU_NOTA_LC**. Você pode manipular os dados da forma que quiser, o importante é que no final submeta o arquivo com as informações corretas (detalhes da submissão serão discutidos no final deste notebook).\n",
        "\n",
        "A base **dados_desafioqt**, contém as seguintes colunas; **ID, NU_NOTA_CN, NU_NOTA_CH, NU_NOTA_MT, NU_NOTA_REDACAO**. Repare que os dados **NU_NOTA_LC** não estão presentes, essa é justamente a informação que você precisa prever. Nós temos os valores reais das notas, no final do prazo de submissão um script irá avaliar sua previsão e dará uma nota para o seu modelo. Nessa base também temos o **ID**, essa informação é importante para o envio da sua previsão, garanta que a nota prevista corresponda ao respectivo **ID**.\n",
        "\n",
        "Se você está habituado com o desenvolvimento de modelos de ML, repare que essa divisão de dados é exatamente a mesma que Treino, Teste e Validação. \n",
        "\n",
        "Abaixo preparamos um código exemplo para você seguir, sinta-se à vontade para experimentar diversos outros métodos, mas **GARANTA QUE O ARQUIVO DE SUBMISSÃO ESTEJA CONFIGURADO CORRETAMENTE**.\n",
        "\n",
        "Na primeira parte, estamos lendo a base de dados direto de arquivos no github.\n",
        "\n",
        "\n",
        "\n",
        "\n"
      ]
    },
    {
      "cell_type": "code",
      "metadata": {
        "id": "c6cK3pPodiB1",
        "colab_type": "code",
        "colab": {}
      },
      "source": [
        "import pandas as pd\n",
        "\n",
        "URI_TREINO = \"https://github.com/tgcsantos/quaretenadados/blob/master/DADOS_TREINO.csv?raw=true\"\n",
        "URI_TESTE = \"https://github.com/tgcsantos/quaretenadados/raw/master/DADOS_TESTE.csv\"\n",
        "URI_DESAFIOQT = \"https://github.com/tgcsantos/quaretenadados/raw/master/DESAFIOQT.csv\"\n",
        "\n",
        "dados_treino = pd.read_csv(URI_TREINO)\n",
        "dados_teste = pd.read_csv(URI_TESTE)\n",
        "dados_desafioqt = pd.read_csv(URI_DESAFIOQT)\n",
        "\n",
        "erro_treino = \"Erro ao carregar dados de treino\"\n",
        "erro_teste = \"Erro ao carregar dados de teste\"\n",
        "erro_desafioqt = \"Erro ao carregar dados de submissão\"\n",
        "\n",
        "assert dados_treino.shape == (150000, 5), erro_treino\n",
        "assert dados_teste.shape == (20000, 5), erro_teste\n",
        "assert dados_desafioqt.shape == (10000, 5), erro_desafioqt"
      ],
      "execution_count": 0,
      "outputs": []
    },
    {
      "cell_type": "markdown",
      "metadata": {
        "id": "__4ltGhs54mv",
        "colab_type": "text"
      },
      "source": [
        "Agora com as bases de dados lidas, vamos separar as informações de cada dataset. X_treino e Y_treino são as **features**, X_teste e Y_teste são as **labels** a serem previstas.\n",
        "\n",
        "Duas observações nesta parte:\n",
        "\n",
        "- 1° Como já disponibilizamos os dados de treino e teste separados, você não precisa fazer *train_test_split* feito em aula (porém fique à vontade para trabalhar da forma que achar melhor).\n",
        "\n",
        "- 2° Transformamos X_treino, Y_treino, X_teste, Y_teste em arrays numpy. Se você quiser usar uma biblioteca que não aceite dataframe como entrada de dados, já deixamos pronto para você."
      ]
    },
    {
      "cell_type": "code",
      "metadata": {
        "id": "9WNonGUG_BCa",
        "colab_type": "code",
        "colab": {
          "base_uri": "https://localhost:8080/",
          "height": 359
        },
        "outputId": "f03d14ba-9849-4995-d1a0-2e7d89beae4e"
      },
      "source": [
        "dados_treino.tail(10)"
      ],
      "execution_count": 4,
      "outputs": [
        {
          "output_type": "execute_result",
          "data": {
            "text/html": [
              "<div>\n",
              "<style scoped>\n",
              "    .dataframe tbody tr th:only-of-type {\n",
              "        vertical-align: middle;\n",
              "    }\n",
              "\n",
              "    .dataframe tbody tr th {\n",
              "        vertical-align: top;\n",
              "    }\n",
              "\n",
              "    .dataframe thead th {\n",
              "        text-align: right;\n",
              "    }\n",
              "</style>\n",
              "<table border=\"1\" class=\"dataframe\">\n",
              "  <thead>\n",
              "    <tr style=\"text-align: right;\">\n",
              "      <th></th>\n",
              "      <th>NU_NOTA_CN</th>\n",
              "      <th>NU_NOTA_CH</th>\n",
              "      <th>NU_NOTA_LC</th>\n",
              "      <th>NU_NOTA_MT</th>\n",
              "      <th>NU_NOTA_REDACAO</th>\n",
              "    </tr>\n",
              "  </thead>\n",
              "  <tbody>\n",
              "    <tr>\n",
              "      <th>149990</th>\n",
              "      <td>583.7</td>\n",
              "      <td>628.6</td>\n",
              "      <td>582.8</td>\n",
              "      <td>670.0</td>\n",
              "      <td>700.0</td>\n",
              "    </tr>\n",
              "    <tr>\n",
              "      <th>149991</th>\n",
              "      <td>436.9</td>\n",
              "      <td>532.3</td>\n",
              "      <td>509.9</td>\n",
              "      <td>465.2</td>\n",
              "      <td>300.0</td>\n",
              "    </tr>\n",
              "    <tr>\n",
              "      <th>149992</th>\n",
              "      <td>533.9</td>\n",
              "      <td>567.5</td>\n",
              "      <td>445.8</td>\n",
              "      <td>395.2</td>\n",
              "      <td>280.0</td>\n",
              "    </tr>\n",
              "    <tr>\n",
              "      <th>149993</th>\n",
              "      <td>524.1</td>\n",
              "      <td>632.3</td>\n",
              "      <td>489.1</td>\n",
              "      <td>438.4</td>\n",
              "      <td>600.0</td>\n",
              "    </tr>\n",
              "    <tr>\n",
              "      <th>149994</th>\n",
              "      <td>465.5</td>\n",
              "      <td>586.1</td>\n",
              "      <td>571.7</td>\n",
              "      <td>644.6</td>\n",
              "      <td>520.0</td>\n",
              "    </tr>\n",
              "    <tr>\n",
              "      <th>149995</th>\n",
              "      <td>587.8</td>\n",
              "      <td>644.1</td>\n",
              "      <td>621.4</td>\n",
              "      <td>714.4</td>\n",
              "      <td>840.0</td>\n",
              "    </tr>\n",
              "    <tr>\n",
              "      <th>149996</th>\n",
              "      <td>385.0</td>\n",
              "      <td>525.6</td>\n",
              "      <td>473.2</td>\n",
              "      <td>446.2</td>\n",
              "      <td>520.0</td>\n",
              "    </tr>\n",
              "    <tr>\n",
              "      <th>149997</th>\n",
              "      <td>471.0</td>\n",
              "      <td>558.7</td>\n",
              "      <td>582.4</td>\n",
              "      <td>542.9</td>\n",
              "      <td>460.0</td>\n",
              "    </tr>\n",
              "    <tr>\n",
              "      <th>149998</th>\n",
              "      <td>476.7</td>\n",
              "      <td>463.5</td>\n",
              "      <td>553.3</td>\n",
              "      <td>434.0</td>\n",
              "      <td>0.0</td>\n",
              "    </tr>\n",
              "    <tr>\n",
              "      <th>149999</th>\n",
              "      <td>637.8</td>\n",
              "      <td>611.5</td>\n",
              "      <td>533.9</td>\n",
              "      <td>731.7</td>\n",
              "      <td>600.0</td>\n",
              "    </tr>\n",
              "  </tbody>\n",
              "</table>\n",
              "</div>"
            ],
            "text/plain": [
              "        NU_NOTA_CN  NU_NOTA_CH  NU_NOTA_LC  NU_NOTA_MT  NU_NOTA_REDACAO\n",
              "149990       583.7       628.6       582.8       670.0            700.0\n",
              "149991       436.9       532.3       509.9       465.2            300.0\n",
              "149992       533.9       567.5       445.8       395.2            280.0\n",
              "149993       524.1       632.3       489.1       438.4            600.0\n",
              "149994       465.5       586.1       571.7       644.6            520.0\n",
              "149995       587.8       644.1       621.4       714.4            840.0\n",
              "149996       385.0       525.6       473.2       446.2            520.0\n",
              "149997       471.0       558.7       582.4       542.9            460.0\n",
              "149998       476.7       463.5       553.3       434.0              0.0\n",
              "149999       637.8       611.5       533.9       731.7            600.0"
            ]
          },
          "metadata": {
            "tags": []
          },
          "execution_count": 4
        }
      ]
    },
    {
      "cell_type": "code",
      "metadata": {
        "id": "fW4fTAdW-eBR",
        "colab_type": "code",
        "colab": {
          "base_uri": "https://localhost:8080/",
          "height": 359
        },
        "outputId": "81fa9fa8-4de9-4d89-c01a-4cc1a55ac26a"
      },
      "source": [
        "# Substituindo os zeros pela mediana da coluna\n",
        "\n",
        "dados_treino.replace(0,dados_treino.median(axis=0),inplace=True)\n",
        "dados_treino.tail(10)"
      ],
      "execution_count": 5,
      "outputs": [
        {
          "output_type": "execute_result",
          "data": {
            "text/html": [
              "<div>\n",
              "<style scoped>\n",
              "    .dataframe tbody tr th:only-of-type {\n",
              "        vertical-align: middle;\n",
              "    }\n",
              "\n",
              "    .dataframe tbody tr th {\n",
              "        vertical-align: top;\n",
              "    }\n",
              "\n",
              "    .dataframe thead th {\n",
              "        text-align: right;\n",
              "    }\n",
              "</style>\n",
              "<table border=\"1\" class=\"dataframe\">\n",
              "  <thead>\n",
              "    <tr style=\"text-align: right;\">\n",
              "      <th></th>\n",
              "      <th>NU_NOTA_CN</th>\n",
              "      <th>NU_NOTA_CH</th>\n",
              "      <th>NU_NOTA_LC</th>\n",
              "      <th>NU_NOTA_MT</th>\n",
              "      <th>NU_NOTA_REDACAO</th>\n",
              "    </tr>\n",
              "  </thead>\n",
              "  <tbody>\n",
              "    <tr>\n",
              "      <th>149990</th>\n",
              "      <td>583.7</td>\n",
              "      <td>628.6</td>\n",
              "      <td>582.8</td>\n",
              "      <td>670.0</td>\n",
              "      <td>700.0</td>\n",
              "    </tr>\n",
              "    <tr>\n",
              "      <th>149991</th>\n",
              "      <td>436.9</td>\n",
              "      <td>532.3</td>\n",
              "      <td>509.9</td>\n",
              "      <td>465.2</td>\n",
              "      <td>300.0</td>\n",
              "    </tr>\n",
              "    <tr>\n",
              "      <th>149992</th>\n",
              "      <td>533.9</td>\n",
              "      <td>567.5</td>\n",
              "      <td>445.8</td>\n",
              "      <td>395.2</td>\n",
              "      <td>280.0</td>\n",
              "    </tr>\n",
              "    <tr>\n",
              "      <th>149993</th>\n",
              "      <td>524.1</td>\n",
              "      <td>632.3</td>\n",
              "      <td>489.1</td>\n",
              "      <td>438.4</td>\n",
              "      <td>600.0</td>\n",
              "    </tr>\n",
              "    <tr>\n",
              "      <th>149994</th>\n",
              "      <td>465.5</td>\n",
              "      <td>586.1</td>\n",
              "      <td>571.7</td>\n",
              "      <td>644.6</td>\n",
              "      <td>520.0</td>\n",
              "    </tr>\n",
              "    <tr>\n",
              "      <th>149995</th>\n",
              "      <td>587.8</td>\n",
              "      <td>644.1</td>\n",
              "      <td>621.4</td>\n",
              "      <td>714.4</td>\n",
              "      <td>840.0</td>\n",
              "    </tr>\n",
              "    <tr>\n",
              "      <th>149996</th>\n",
              "      <td>385.0</td>\n",
              "      <td>525.6</td>\n",
              "      <td>473.2</td>\n",
              "      <td>446.2</td>\n",
              "      <td>520.0</td>\n",
              "    </tr>\n",
              "    <tr>\n",
              "      <th>149997</th>\n",
              "      <td>471.0</td>\n",
              "      <td>558.7</td>\n",
              "      <td>582.4</td>\n",
              "      <td>542.9</td>\n",
              "      <td>460.0</td>\n",
              "    </tr>\n",
              "    <tr>\n",
              "      <th>149998</th>\n",
              "      <td>476.7</td>\n",
              "      <td>463.5</td>\n",
              "      <td>553.3</td>\n",
              "      <td>434.0</td>\n",
              "      <td>520.0</td>\n",
              "    </tr>\n",
              "    <tr>\n",
              "      <th>149999</th>\n",
              "      <td>637.8</td>\n",
              "      <td>611.5</td>\n",
              "      <td>533.9</td>\n",
              "      <td>731.7</td>\n",
              "      <td>600.0</td>\n",
              "    </tr>\n",
              "  </tbody>\n",
              "</table>\n",
              "</div>"
            ],
            "text/plain": [
              "        NU_NOTA_CN  NU_NOTA_CH  NU_NOTA_LC  NU_NOTA_MT  NU_NOTA_REDACAO\n",
              "149990       583.7       628.6       582.8       670.0            700.0\n",
              "149991       436.9       532.3       509.9       465.2            300.0\n",
              "149992       533.9       567.5       445.8       395.2            280.0\n",
              "149993       524.1       632.3       489.1       438.4            600.0\n",
              "149994       465.5       586.1       571.7       644.6            520.0\n",
              "149995       587.8       644.1       621.4       714.4            840.0\n",
              "149996       385.0       525.6       473.2       446.2            520.0\n",
              "149997       471.0       558.7       582.4       542.9            460.0\n",
              "149998       476.7       463.5       553.3       434.0            520.0\n",
              "149999       637.8       611.5       533.9       731.7            600.0"
            ]
          },
          "metadata": {
            "tags": []
          },
          "execution_count": 5
        }
      ]
    },
    {
      "cell_type": "code",
      "metadata": {
        "id": "9wbWpqZgjLx4",
        "colab_type": "code",
        "colab": {}
      },
      "source": [
        "coluna_label = 'NU_NOTA_LC'\n",
        "coluna_features = ['NU_NOTA_CN', 'NU_NOTA_CH', 'NU_NOTA_MT', 'NU_NOTA_REDACAO']\n",
        "\n",
        "X_treino = dados_treino[coluna_features].to_numpy()\n",
        "Y_treino = dados_treino[coluna_label].to_numpy()\n",
        "X_teste = dados_teste[coluna_features].to_numpy()\n",
        "Y_teste = dados_teste[coluna_label].to_numpy()"
      ],
      "execution_count": 0,
      "outputs": []
    },
    {
      "cell_type": "markdown",
      "metadata": {
        "id": "_ewf2Px98qBH",
        "colab_type": "text"
      },
      "source": [
        "A seguir criamos um modelo **Dummy** como exemplo e realizamos a avaliação do modelo com o **mean_squared_error**. \n",
        "\n",
        "Você pode usar qualquer algoritmo ou biblioteca para criar seus modelos, mas garanta que fará a avaliação com o mean_squared_error, pois usaremos essa métrica para avaliar sua predição final."
      ]
    },
    {
      "cell_type": "code",
      "metadata": {
        "id": "n0Vz5ZeEli8m",
        "colab_type": "code",
        "outputId": "71868a4e-8c4e-4c26-d1b1-c97aac761569",
        "colab": {
          "base_uri": "https://localhost:8080/",
          "height": 34
        }
      },
      "source": [
        "#Exemplo de classificação com Dummy\n",
        "from sklearn.dummy import DummyRegressor\n",
        "from sklearn.metrics import mean_squared_error\n",
        "\n",
        "modelo_dummy = DummyRegressor()\n",
        "modelo_dummy.fit(X_treino, Y_treino)\n",
        "dummy_predicoes = modelo_dummy.predict(X_teste)\n",
        "\n",
        "avaliacao_dummy = mean_squared_error(Y_teste, dummy_predicoes)\n",
        "\n",
        "print(f\"Minha avaliação nos dados de teste foi de {avaliacao_dummy}\")"
      ],
      "execution_count": 7,
      "outputs": [
        {
          "output_type": "stream",
          "text": [
            "Minha avaliação nos dados de teste foi de 5219.556204113607\n"
          ],
          "name": "stdout"
        }
      ]
    },
    {
      "cell_type": "code",
      "metadata": {
        "id": "zPyUN_PBrTpE",
        "colab_type": "code",
        "outputId": "eb1c76eb-ae30-48cc-eb68-dce661fb8d8b",
        "colab": {
          "base_uri": "https://localhost:8080/",
          "height": 782
        }
      },
      "source": [
        "# Verificar a existência de dados faltantes (NaN)\n",
        "colunas = ['NU_NOTA_CN', 'NU_NOTA_CH','NU_NOTA_LC', 'NU_NOTA_MT', 'NU_NOTA_REDACAO']\n",
        "for nota in colunas:\n",
        "  print(f\"Verificação isna() para {nota}:\")\n",
        "  print(dados_treino.isna().query(f'{nota} == True'))\n",
        "  print(f\"Verificação 'NaN' para {nota}\")\n",
        "  print(dados_treino.query(f\"{nota} == 'NaN'\"))\n",
        "  print()"
      ],
      "execution_count": 8,
      "outputs": [
        {
          "output_type": "stream",
          "text": [
            "Verificação isna() para NU_NOTA_CN:\n",
            "Empty DataFrame\n",
            "Columns: [NU_NOTA_CN, NU_NOTA_CH, NU_NOTA_LC, NU_NOTA_MT, NU_NOTA_REDACAO]\n",
            "Index: []\n",
            "Verificação 'NaN' para NU_NOTA_CN\n",
            "Empty DataFrame\n",
            "Columns: [NU_NOTA_CN, NU_NOTA_CH, NU_NOTA_LC, NU_NOTA_MT, NU_NOTA_REDACAO]\n",
            "Index: []\n",
            "\n",
            "Verificação isna() para NU_NOTA_CH:\n",
            "Empty DataFrame\n",
            "Columns: [NU_NOTA_CN, NU_NOTA_CH, NU_NOTA_LC, NU_NOTA_MT, NU_NOTA_REDACAO]\n",
            "Index: []\n",
            "Verificação 'NaN' para NU_NOTA_CH\n",
            "Empty DataFrame\n",
            "Columns: [NU_NOTA_CN, NU_NOTA_CH, NU_NOTA_LC, NU_NOTA_MT, NU_NOTA_REDACAO]\n",
            "Index: []\n",
            "\n",
            "Verificação isna() para NU_NOTA_LC:\n",
            "Empty DataFrame\n",
            "Columns: [NU_NOTA_CN, NU_NOTA_CH, NU_NOTA_LC, NU_NOTA_MT, NU_NOTA_REDACAO]\n",
            "Index: []\n",
            "Verificação 'NaN' para NU_NOTA_LC\n",
            "Empty DataFrame\n",
            "Columns: [NU_NOTA_CN, NU_NOTA_CH, NU_NOTA_LC, NU_NOTA_MT, NU_NOTA_REDACAO]\n",
            "Index: []\n",
            "\n",
            "Verificação isna() para NU_NOTA_MT:\n",
            "Empty DataFrame\n",
            "Columns: [NU_NOTA_CN, NU_NOTA_CH, NU_NOTA_LC, NU_NOTA_MT, NU_NOTA_REDACAO]\n",
            "Index: []\n",
            "Verificação 'NaN' para NU_NOTA_MT\n",
            "Empty DataFrame\n",
            "Columns: [NU_NOTA_CN, NU_NOTA_CH, NU_NOTA_LC, NU_NOTA_MT, NU_NOTA_REDACAO]\n",
            "Index: []\n",
            "\n",
            "Verificação isna() para NU_NOTA_REDACAO:\n",
            "Empty DataFrame\n",
            "Columns: [NU_NOTA_CN, NU_NOTA_CH, NU_NOTA_LC, NU_NOTA_MT, NU_NOTA_REDACAO]\n",
            "Index: []\n",
            "Verificação 'NaN' para NU_NOTA_REDACAO\n",
            "Empty DataFrame\n",
            "Columns: [NU_NOTA_CN, NU_NOTA_CH, NU_NOTA_LC, NU_NOTA_MT, NU_NOTA_REDACAO]\n",
            "Index: []\n",
            "\n"
          ],
          "name": "stdout"
        }
      ]
    },
    {
      "cell_type": "code",
      "metadata": {
        "id": "2AVxBrwRq9hA",
        "colab_type": "code",
        "outputId": "2ea497d6-e5ea-4ff8-834b-f2ed80321747",
        "colab": {
          "base_uri": "https://localhost:8080/",
          "height": 297
        }
      },
      "source": [
        "# Após verificada a inexistência de NaN\n",
        "# Avaliar as informações disponíveis para treino\n",
        "\n",
        "dados_treino.describe()"
      ],
      "execution_count": 9,
      "outputs": [
        {
          "output_type": "execute_result",
          "data": {
            "text/html": [
              "<div>\n",
              "<style scoped>\n",
              "    .dataframe tbody tr th:only-of-type {\n",
              "        vertical-align: middle;\n",
              "    }\n",
              "\n",
              "    .dataframe tbody tr th {\n",
              "        vertical-align: top;\n",
              "    }\n",
              "\n",
              "    .dataframe thead th {\n",
              "        text-align: right;\n",
              "    }\n",
              "</style>\n",
              "<table border=\"1\" class=\"dataframe\">\n",
              "  <thead>\n",
              "    <tr style=\"text-align: right;\">\n",
              "      <th></th>\n",
              "      <th>NU_NOTA_CN</th>\n",
              "      <th>NU_NOTA_CH</th>\n",
              "      <th>NU_NOTA_LC</th>\n",
              "      <th>NU_NOTA_MT</th>\n",
              "      <th>NU_NOTA_REDACAO</th>\n",
              "    </tr>\n",
              "  </thead>\n",
              "  <tbody>\n",
              "    <tr>\n",
              "      <th>count</th>\n",
              "      <td>150000.000000</td>\n",
              "      <td>150000.000000</td>\n",
              "      <td>150000.000000</td>\n",
              "      <td>150000.000000</td>\n",
              "      <td>150000.000000</td>\n",
              "    </tr>\n",
              "    <tr>\n",
              "      <th>mean</th>\n",
              "      <td>493.945246</td>\n",
              "      <td>571.364451</td>\n",
              "      <td>528.736707</td>\n",
              "      <td>535.677004</td>\n",
              "      <td>526.902133</td>\n",
              "    </tr>\n",
              "    <tr>\n",
              "      <th>std</th>\n",
              "      <td>73.968118</td>\n",
              "      <td>77.221666</td>\n",
              "      <td>71.622148</td>\n",
              "      <td>102.866373</td>\n",
              "      <td>168.595107</td>\n",
              "    </tr>\n",
              "    <tr>\n",
              "      <th>min</th>\n",
              "      <td>362.500000</td>\n",
              "      <td>304.200000</td>\n",
              "      <td>318.800000</td>\n",
              "      <td>364.400000</td>\n",
              "      <td>40.000000</td>\n",
              "    </tr>\n",
              "    <tr>\n",
              "      <th>25%</th>\n",
              "      <td>435.800000</td>\n",
              "      <td>513.600000</td>\n",
              "      <td>478.000000</td>\n",
              "      <td>455.500000</td>\n",
              "      <td>380.000000</td>\n",
              "    </tr>\n",
              "    <tr>\n",
              "      <th>50%</th>\n",
              "      <td>483.600000</td>\n",
              "      <td>584.900000</td>\n",
              "      <td>533.400000</td>\n",
              "      <td>516.700000</td>\n",
              "      <td>520.000000</td>\n",
              "    </tr>\n",
              "    <tr>\n",
              "      <th>75%</th>\n",
              "      <td>542.500000</td>\n",
              "      <td>629.600000</td>\n",
              "      <td>581.400000</td>\n",
              "      <td>600.900000</td>\n",
              "      <td>640.000000</td>\n",
              "    </tr>\n",
              "    <tr>\n",
              "      <th>max</th>\n",
              "      <td>869.600000</td>\n",
              "      <td>825.800000</td>\n",
              "      <td>787.400000</td>\n",
              "      <td>996.100000</td>\n",
              "      <td>1000.000000</td>\n",
              "    </tr>\n",
              "  </tbody>\n",
              "</table>\n",
              "</div>"
            ],
            "text/plain": [
              "          NU_NOTA_CN     NU_NOTA_CH  ...     NU_NOTA_MT  NU_NOTA_REDACAO\n",
              "count  150000.000000  150000.000000  ...  150000.000000    150000.000000\n",
              "mean      493.945246     571.364451  ...     535.677004       526.902133\n",
              "std        73.968118      77.221666  ...     102.866373       168.595107\n",
              "min       362.500000     304.200000  ...     364.400000        40.000000\n",
              "25%       435.800000     513.600000  ...     455.500000       380.000000\n",
              "50%       483.600000     584.900000  ...     516.700000       520.000000\n",
              "75%       542.500000     629.600000  ...     600.900000       640.000000\n",
              "max       869.600000     825.800000  ...     996.100000      1000.000000\n",
              "\n",
              "[8 rows x 5 columns]"
            ]
          },
          "metadata": {
            "tags": []
          },
          "execution_count": 9
        }
      ]
    },
    {
      "cell_type": "code",
      "metadata": {
        "id": "eHQf6rVHrHJo",
        "colab_type": "code",
        "outputId": "fbd9d3f5-01c9-4be0-b659-e6d3d065de1e",
        "colab": {
          "base_uri": "https://localhost:8080/",
          "height": 283
        }
      },
      "source": [
        "dados_treino.boxplot()"
      ],
      "execution_count": 10,
      "outputs": [
        {
          "output_type": "execute_result",
          "data": {
            "text/plain": [
              "<matplotlib.axes._subplots.AxesSubplot at 0x7f44824b4cc0>"
            ]
          },
          "metadata": {
            "tags": []
          },
          "execution_count": 10
        },
        {
          "output_type": "display_data",
          "data": {
            "image/png": "[encoded data removed]",
            "text/plain": [
              "<Figure size 432x288 with 1 Axes>"
            ]
          },
          "metadata": {
            "tags": [],
            "needs_background": "light"
          }
        }
      ]
    },
    {
      "cell_type": "code",
      "metadata": {
        "id": "toxtV0psphD1",
        "colab_type": "code",
        "outputId": "55aba8b2-dd1b-466c-d580-ee85662126e1",
        "colab": {
          "base_uri": "https://localhost:8080/",
          "height": 156
        }
      },
      "source": [
        "%%time\n",
        "# Classificação utilizando Linear Regressor (valores default)\n",
        "# Ref: https://scikit-learn.org/stable/modules/generated/sklearn.svm.LinearSVR.html\n",
        "from sklearn.svm import LinearSVR\n",
        "\n",
        "modelo_linear = LinearSVR(random_state=0)\n",
        "modelo_linear.fit(X_treino, Y_treino)\n",
        "\n",
        "linear_predic = modelo_linear.predict(X_teste)\n",
        "\n",
        "aval_linear = mean_squared_error(Y_teste, linear_predic)\n",
        "\n",
        "print(f\"\\nMinha avaliação nos dados de teste foi de {aval_linear}\\n\")"
      ],
      "execution_count": 11,
      "outputs": [
        {
          "output_type": "stream",
          "text": [
            "\n",
            "Minha avaliação nos dados de teste foi de 2883.699388978955\n",
            "\n",
            "CPU times: user 27.2 s, sys: 14.8 ms, total: 27.3 s\n",
            "Wall time: 27.4 s\n"
          ],
          "name": "stdout"
        },
        {
          "output_type": "stream",
          "text": [
            "/usr/local/lib/python3.6/dist-packages/sklearn/svm/_base.py:947: ConvergenceWarning: Liblinear failed to converge, increase the number of iterations.\n",
            "  \"the number of iterations.\", ConvergenceWarning)\n"
          ],
          "name": "stderr"
        }
      ]
    },
    {
      "cell_type": "code",
      "metadata": {
        "id": "cnsjcGenk4PZ",
        "colab_type": "code",
        "colab": {
          "base_uri": "https://localhost:8080/",
          "height": 241
        },
        "outputId": "a1927506-325d-467c-d110-352d3e46a95d"
      },
      "source": [
        "# Realizar a instalação da biblioteca scikit-optimize para tentar otimizar\n",
        "# os modelos a serem testados\n",
        "pip install scikit-optimize"
      ],
      "execution_count": 12,
      "outputs": [
        {
          "output_type": "stream",
          "text": [
            "Collecting scikit-optimize\n",
            "\u001b[?25l  Downloading https://files.pythonhosted.org/packages/5c/87/310b52debfbc0cb79764e5770fa3f5c18f6f0754809ea9e2fc185e1b67d3/scikit_optimize-0.7.4-py2.py3-none-any.whl (80kB)\n",
            "\r\u001b[K     |████                            | 10kB 16.9MB/s eta 0:00:01\r\u001b[K     |████████▏                       | 20kB 1.8MB/s eta 0:00:01\r\u001b[K     |████████████▎                   | 30kB 2.4MB/s eta 0:00:01\r\u001b[K     |████████████████▎               | 40kB 1.7MB/s eta 0:00:01\r\u001b[K     |████████████████████▍           | 51kB 2.1MB/s eta 0:00:01\r\u001b[K     |████████████████████████▌       | 61kB 2.5MB/s eta 0:00:01\r\u001b[K     |████████████████████████████▌   | 71kB 2.9MB/s eta 0:00:01\r\u001b[K     |████████████████████████████████| 81kB 2.5MB/s \n",
            "\u001b[?25hCollecting pyaml>=16.9\n",
            "  Downloading https://files.pythonhosted.org/packages/15/c4/1310a054d33abc318426a956e7d6df0df76a6ddfa9c66f6310274fb75d42/pyaml-20.4.0-py2.py3-none-any.whl\n",
            "Requirement already satisfied: scikit-learn>=0.19.1 in /usr/local/lib/python3.6/dist-packages (from scikit-optimize) (0.22.2.post1)\n",
            "Requirement already satisfied: scipy>=0.18.0 in /usr/local/lib/python3.6/dist-packages (from scikit-optimize) (1.4.1)\n",
            "Requirement already satisfied: joblib>=0.11 in /usr/local/lib/python3.6/dist-packages (from scikit-optimize) (0.14.1)\n",
            "Requirement already satisfied: numpy>=1.11.0 in /usr/local/lib/python3.6/dist-packages (from scikit-optimize) (1.18.3)\n",
            "Requirement already satisfied: PyYAML in /usr/local/lib/python3.6/dist-packages (from pyaml>=16.9->scikit-optimize) (3.13)\n",
            "Installing collected packages: pyaml, scikit-optimize\n",
            "Successfully installed pyaml-20.4.0 scikit-optimize-0.7.4\n"
          ],
          "name": "stdout"
        }
      ]
    },
    {
      "cell_type": "code",
      "metadata": {
        "id": "TtKtw6azk--t",
        "colab_type": "code",
        "colab": {}
      },
      "source": [
        "#%%time\n",
        "# Criação de função para utilizar no gp_minimize (parte do scikit-optimize)\n",
        "# Utilizando o modelo LinearSVR\n",
        "# Variando os valores de C entre 0.1 e 0.5 e os valores de max_iter entre 5k e 10k\n",
        "# Ref: https://scikit-learn.org/stable/modules/generated/sklearn.svm.LinearSVR.html\n",
        "# Ref: https://scikit-optimize.github.io/stable/modules/generated/skopt.gp_minimize.html\n",
        "\n",
        "from sklearn.svm import LinearSVR\n",
        "from skopt import gp_minimize\n",
        "\n",
        "def treinar_modelo(params):\n",
        "  C = params[0]\n",
        "  max_iter = params[1]\n",
        "  \n",
        "  print(params, '\\n')\n",
        "\n",
        "  modelo_linear = LinearSVR(C= C, max_iter= max_iter, random_state=0)\n",
        "  modelo_linear.fit(X_treino, Y_treino)\n",
        "\n",
        "  linear_predic = modelo_linear.predict(X_teste)\n",
        "\n",
        "  return mean_squared_error(Y_teste, linear_predic)\n",
        "\n",
        "#  Variáveis a serem repassadas para o gp_minimize\n",
        "space = [(0.1, 0.5),      # C\n",
        "         (5000,10000)]    # max_iter"
      ],
      "execution_count": 0,
      "outputs": []
    },
    {
      "cell_type": "code",
      "metadata": {
        "id": "NrdPbPsglBdF",
        "colab_type": "code",
        "colab": {
          "base_uri": "https://localhost:8080/",
          "height": 1000
        },
        "outputId": "9b32f79d-358e-48b6-ebca-dab2a8941557"
      },
      "source": [
        "# Bayesian Optimization\n",
        "# Exploration Exploitation tradeoff\n",
        "\n",
        "resultados_gp = gp_minimize(treinar_modelo, space, random_state=0, verbose=1, n_calls=30, n_random_starts=10)"
      ],
      "execution_count": 12,
      "outputs": [
        {
          "output_type": "stream",
          "text": [
            "Iteration No: 1 started. Evaluating function at random point.\n",
            "[0.3371378472900074, 9221] \n",
            "\n"
          ],
          "name": "stdout"
        },
        {
          "output_type": "stream",
          "text": [
            "/usr/local/lib/python3.6/dist-packages/sklearn/svm/_base.py:947: ConvergenceWarning: Liblinear failed to converge, increase the number of iterations.\n",
            "  \"the number of iterations.\", ConvergenceWarning)\n"
          ],
          "name": "stderr"
        },
        {
          "output_type": "stream",
          "text": [
            "Iteration No: 1 ended. Evaluation done at random point.\n",
            "Time taken: 142.9885\n",
            "Function value obtained: 2283.0504\n",
            "Current minimum: 2283.0504\n",
            "Iteration No: 2 started. Evaluating function at random point.\n",
            "[0.4431782470491028, 9236] \n",
            "\n"
          ],
          "name": "stdout"
        },
        {
          "output_type": "stream",
          "text": [
            "/usr/local/lib/python3.6/dist-packages/sklearn/svm/_base.py:947: ConvergenceWarning: Liblinear failed to converge, increase the number of iterations.\n",
            "  \"the number of iterations.\", ConvergenceWarning)\n"
          ],
          "name": "stderr"
        },
        {
          "output_type": "stream",
          "text": [
            "Iteration No: 2 ended. Evaluation done at random point.\n",
            "Time taken: 130.7997\n",
            "Function value obtained: 2249.0470\n",
            "Current minimum: 2249.0470\n",
            "Iteration No: 3 started. Evaluating function at random point.\n",
            "[0.349425478714389, 6922] \n",
            "\n"
          ],
          "name": "stdout"
        },
        {
          "output_type": "stream",
          "text": [
            "/usr/local/lib/python3.6/dist-packages/sklearn/svm/_base.py:947: ConvergenceWarning: Liblinear failed to converge, increase the number of iterations.\n",
            "  \"the number of iterations.\", ConvergenceWarning)\n"
          ],
          "name": "stderr"
        },
        {
          "output_type": "stream",
          "text": [
            "Iteration No: 3 ended. Evaluation done at random point.\n",
            "Time taken: 110.8657\n",
            "Function value obtained: 3941.6829\n",
            "Current minimum: 2249.0470\n",
            "Iteration No: 4 started. Evaluating function at random point.\n",
            "[0.21901384261778895, 5284] \n",
            "\n"
          ],
          "name": "stdout"
        },
        {
          "output_type": "stream",
          "text": [
            "/usr/local/lib/python3.6/dist-packages/sklearn/svm/_base.py:947: ConvergenceWarning: Liblinear failed to converge, increase the number of iterations.\n",
            "  \"the number of iterations.\", ConvergenceWarning)\n"
          ],
          "name": "stderr"
        },
        {
          "output_type": "stream",
          "text": [
            "Iteration No: 4 ended. Evaluation done at random point.\n",
            "Time taken: 83.8669\n",
            "Function value obtained: 2336.6128\n",
            "Current minimum: 2249.0470\n",
            "Iteration No: 5 started. Evaluating function at random point.\n",
            "[0.20906251783204532, 7388] \n",
            "\n"
          ],
          "name": "stdout"
        },
        {
          "output_type": "stream",
          "text": [
            "/usr/local/lib/python3.6/dist-packages/sklearn/svm/_base.py:947: ConvergenceWarning: Liblinear failed to converge, increase the number of iterations.\n",
            "  \"the number of iterations.\", ConvergenceWarning)\n"
          ],
          "name": "stderr"
        },
        {
          "output_type": "stream",
          "text": [
            "Iteration No: 5 ended. Evaluation done at random point.\n",
            "Time taken: 116.9711\n",
            "Function value obtained: 2523.0796\n",
            "Current minimum: 2249.0470\n",
            "Iteration No: 6 started. Evaluating function at random point.\n",
            "[0.4248674915101974, 7400] \n",
            "\n"
          ],
          "name": "stdout"
        },
        {
          "output_type": "stream",
          "text": [
            "/usr/local/lib/python3.6/dist-packages/sklearn/svm/_base.py:947: ConvergenceWarning: Liblinear failed to converge, increase the number of iterations.\n",
            "  \"the number of iterations.\", ConvergenceWarning)\n"
          ],
          "name": "stderr"
        },
        {
          "output_type": "stream",
          "text": [
            "Iteration No: 6 ended. Evaluation done at random point.\n",
            "Time taken: 120.2268\n",
            "Function value obtained: 5844.5106\n",
            "Current minimum: 2249.0470\n",
            "Iteration No: 7 started. Evaluating function at random point.\n",
            "[0.25711391844033193, 9180] \n",
            "\n"
          ],
          "name": "stdout"
        },
        {
          "output_type": "stream",
          "text": [
            "/usr/local/lib/python3.6/dist-packages/sklearn/svm/_base.py:947: ConvergenceWarning: Liblinear failed to converge, increase the number of iterations.\n",
            "  \"the number of iterations.\", ConvergenceWarning)\n"
          ],
          "name": "stderr"
        },
        {
          "output_type": "stream",
          "text": [
            "Iteration No: 7 ended. Evaluation done at random point.\n",
            "Time taken: 145.2552\n",
            "Function value obtained: 2229.3211\n",
            "Current minimum: 2229.3211\n",
            "Iteration No: 8 started. Evaluating function at random point.\n",
            "[0.23495846416690738, 8241] \n",
            "\n"
          ],
          "name": "stdout"
        },
        {
          "output_type": "stream",
          "text": [
            "/usr/local/lib/python3.6/dist-packages/sklearn/svm/_base.py:947: ConvergenceWarning: Liblinear failed to converge, increase the number of iterations.\n",
            "  \"the number of iterations.\", ConvergenceWarning)\n"
          ],
          "name": "stderr"
        },
        {
          "output_type": "stream",
          "text": [
            "Iteration No: 8 ended. Evaluation done at random point.\n",
            "Time taken: 125.7481\n",
            "Function value obtained: 2601.6919\n",
            "Current minimum: 2229.3211\n",
            "Iteration No: 9 started. Evaluating function at random point.\n",
            "[0.2472966159362192, 9786] \n",
            "\n"
          ],
          "name": "stdout"
        },
        {
          "output_type": "stream",
          "text": [
            "/usr/local/lib/python3.6/dist-packages/sklearn/svm/_base.py:947: ConvergenceWarning: Liblinear failed to converge, increase the number of iterations.\n",
            "  \"the number of iterations.\", ConvergenceWarning)\n"
          ],
          "name": "stderr"
        },
        {
          "output_type": "stream",
          "text": [
            "Iteration No: 9 ended. Evaluation done at random point.\n",
            "Time taken: 146.8667\n",
            "Function value obtained: 3617.3623\n",
            "Current minimum: 2229.3211\n",
            "Iteration No: 10 started. Evaluating function at random point.\n",
            "[0.15614031216505808, 9350] \n",
            "\n"
          ],
          "name": "stdout"
        },
        {
          "output_type": "stream",
          "text": [
            "/usr/local/lib/python3.6/dist-packages/sklearn/svm/_base.py:947: ConvergenceWarning: Liblinear failed to converge, increase the number of iterations.\n",
            "  \"the number of iterations.\", ConvergenceWarning)\n"
          ],
          "name": "stderr"
        },
        {
          "output_type": "stream",
          "text": [
            "Iteration No: 10 ended. Evaluation done at random point.\n",
            "Time taken: 134.0951\n",
            "Function value obtained: 2198.2423\n",
            "Current minimum: 2198.2423\n",
            "Iteration No: 11 started. Searching for the next optimal point.\n",
            "[0.30280771092094017, 9205] \n",
            "\n"
          ],
          "name": "stdout"
        },
        {
          "output_type": "stream",
          "text": [
            "/usr/local/lib/python3.6/dist-packages/sklearn/svm/_base.py:947: ConvergenceWarning: Liblinear failed to converge, increase the number of iterations.\n",
            "  \"the number of iterations.\", ConvergenceWarning)\n"
          ],
          "name": "stderr"
        },
        {
          "output_type": "stream",
          "text": [
            "Iteration No: 11 ended. Search finished for the next optimal point.\n",
            "Time taken: 141.9449\n",
            "Function value obtained: 2215.7641\n",
            "Current minimum: 2198.2423\n",
            "Iteration No: 12 started. Searching for the next optimal point.\n",
            "[0.32857658481061225, 9201] \n",
            "\n"
          ],
          "name": "stdout"
        },
        {
          "output_type": "stream",
          "text": [
            "/usr/local/lib/python3.6/dist-packages/sklearn/svm/_base.py:947: ConvergenceWarning: Liblinear failed to converge, increase the number of iterations.\n",
            "  \"the number of iterations.\", ConvergenceWarning)\n"
          ],
          "name": "stderr"
        },
        {
          "output_type": "stream",
          "text": [
            "Iteration No: 12 ended. Search finished for the next optimal point.\n",
            "Time taken: 143.3123\n",
            "Function value obtained: 2626.2608\n",
            "Current minimum: 2198.2423\n",
            "Iteration No: 13 started. Searching for the next optimal point.\n",
            "[0.30499305949082867, 9200] \n",
            "\n"
          ],
          "name": "stdout"
        },
        {
          "output_type": "stream",
          "text": [
            "/usr/local/lib/python3.6/dist-packages/sklearn/svm/_base.py:947: ConvergenceWarning: Liblinear failed to converge, increase the number of iterations.\n",
            "  \"the number of iterations.\", ConvergenceWarning)\n"
          ],
          "name": "stderr"
        },
        {
          "output_type": "stream",
          "text": [
            "Iteration No: 13 ended. Search finished for the next optimal point.\n",
            "Time taken: 142.9769\n",
            "Function value obtained: 3321.2392\n",
            "Current minimum: 2198.2423\n",
            "Iteration No: 14 started. Searching for the next optimal point.\n",
            "[0.3112538362831754, 9201] \n",
            "\n"
          ],
          "name": "stdout"
        },
        {
          "output_type": "stream",
          "text": [
            "/usr/local/lib/python3.6/dist-packages/sklearn/svm/_base.py:947: ConvergenceWarning: Liblinear failed to converge, increase the number of iterations.\n",
            "  \"the number of iterations.\", ConvergenceWarning)\n"
          ],
          "name": "stderr"
        },
        {
          "output_type": "stream",
          "text": [
            "Iteration No: 14 ended. Search finished for the next optimal point.\n",
            "Time taken: 142.9666\n",
            "Function value obtained: 2235.4947\n",
            "Current minimum: 2198.2423\n",
            "Iteration No: 15 started. Searching for the next optimal point.\n",
            "[0.15614027894525132, 9350] \n",
            "\n"
          ],
          "name": "stdout"
        },
        {
          "output_type": "stream",
          "text": [
            "/usr/local/lib/python3.6/dist-packages/sklearn/svm/_base.py:947: ConvergenceWarning: Liblinear failed to converge, increase the number of iterations.\n",
            "  \"the number of iterations.\", ConvergenceWarning)\n"
          ],
          "name": "stderr"
        },
        {
          "output_type": "stream",
          "text": [
            "Iteration No: 15 ended. Search finished for the next optimal point.\n",
            "Time taken: 133.9140\n",
            "Function value obtained: 2198.2423\n",
            "Current minimum: 2198.2423\n",
            "Iteration No: 16 started. Searching for the next optimal point.\n",
            "[0.1561403016558831, 9350] \n",
            "\n"
          ],
          "name": "stdout"
        },
        {
          "output_type": "stream",
          "text": [
            "/usr/local/lib/python3.6/dist-packages/sklearn/svm/_base.py:947: ConvergenceWarning: Liblinear failed to converge, increase the number of iterations.\n",
            "  \"the number of iterations.\", ConvergenceWarning)\n"
          ],
          "name": "stderr"
        },
        {
          "output_type": "stream",
          "text": [
            "Iteration No: 16 ended. Search finished for the next optimal point.\n",
            "Time taken: 133.6552\n",
            "Function value obtained: 2198.2423\n",
            "Current minimum: 2198.2423\n",
            "Iteration No: 17 started. Searching for the next optimal point.\n",
            "[0.1561402981997314, 9350] \n",
            "\n"
          ],
          "name": "stdout"
        },
        {
          "output_type": "stream",
          "text": [
            "/usr/local/lib/python3.6/dist-packages/skopt/optimizer/optimizer.py:409: UserWarning: The objective has been evaluated at this point before.\n",
            "  warnings.warn(\"The objective has been evaluated \"\n",
            "/usr/local/lib/python3.6/dist-packages/sklearn/svm/_base.py:947: ConvergenceWarning: Liblinear failed to converge, increase the number of iterations.\n",
            "  \"the number of iterations.\", ConvergenceWarning)\n"
          ],
          "name": "stderr"
        },
        {
          "output_type": "stream",
          "text": [
            "Iteration No: 17 ended. Search finished for the next optimal point.\n",
            "Time taken: 134.5349\n",
            "Function value obtained: 2198.2423\n",
            "Current minimum: 2198.2423\n",
            "Iteration No: 18 started. Searching for the next optimal point.\n",
            "[0.1561402975303187, 9350] \n",
            "\n"
          ],
          "name": "stdout"
        },
        {
          "output_type": "stream",
          "text": [
            "/usr/local/lib/python3.6/dist-packages/skopt/optimizer/optimizer.py:409: UserWarning: The objective has been evaluated at this point before.\n",
            "  warnings.warn(\"The objective has been evaluated \"\n",
            "/usr/local/lib/python3.6/dist-packages/sklearn/svm/_base.py:947: ConvergenceWarning: Liblinear failed to converge, increase the number of iterations.\n",
            "  \"the number of iterations.\", ConvergenceWarning)\n"
          ],
          "name": "stderr"
        },
        {
          "output_type": "stream",
          "text": [
            "Iteration No: 18 ended. Search finished for the next optimal point.\n",
            "Time taken: 133.6994\n",
            "Function value obtained: 2198.2423\n",
            "Current minimum: 2198.2423\n",
            "Iteration No: 19 started. Searching for the next optimal point.\n",
            "[0.20111686520023483, 9258] \n",
            "\n"
          ],
          "name": "stdout"
        },
        {
          "output_type": "stream",
          "text": [
            "/usr/local/lib/python3.6/dist-packages/sklearn/svm/_base.py:947: ConvergenceWarning: Liblinear failed to converge, increase the number of iterations.\n",
            "  \"the number of iterations.\", ConvergenceWarning)\n"
          ],
          "name": "stderr"
        },
        {
          "output_type": "stream",
          "text": [
            "Iteration No: 19 ended. Search finished for the next optimal point.\n",
            "Time taken: 140.6379\n",
            "Function value obtained: 2588.2142\n",
            "Current minimum: 2198.2423\n",
            "Iteration No: 20 started. Searching for the next optimal point.\n",
            "[0.22380165446484038, 9258] \n",
            "\n"
          ],
          "name": "stdout"
        },
        {
          "output_type": "stream",
          "text": [
            "/usr/local/lib/python3.6/dist-packages/sklearn/svm/_base.py:947: ConvergenceWarning: Liblinear failed to converge, increase the number of iterations.\n",
            "  \"the number of iterations.\", ConvergenceWarning)\n"
          ],
          "name": "stderr"
        },
        {
          "output_type": "stream",
          "text": [
            "Iteration No: 20 ended. Search finished for the next optimal point.\n",
            "Time taken: 142.6322\n",
            "Function value obtained: 2215.7698\n",
            "Current minimum: 2198.2423\n",
            "Iteration No: 21 started. Searching for the next optimal point.\n",
            "[0.18570076735372826, 9257] \n",
            "\n"
          ],
          "name": "stdout"
        },
        {
          "output_type": "stream",
          "text": [
            "/usr/local/lib/python3.6/dist-packages/sklearn/svm/_base.py:947: ConvergenceWarning: Liblinear failed to converge, increase the number of iterations.\n",
            "  \"the number of iterations.\", ConvergenceWarning)\n"
          ],
          "name": "stderr"
        },
        {
          "output_type": "stream",
          "text": [
            "Iteration No: 21 ended. Search finished for the next optimal point.\n",
            "Time taken: 136.5331\n",
            "Function value obtained: 2396.4050\n",
            "Current minimum: 2198.2423\n",
            "Iteration No: 22 started. Searching for the next optimal point.\n",
            "[0.21395575899607858, 9257] \n",
            "\n"
          ],
          "name": "stdout"
        },
        {
          "output_type": "stream",
          "text": [
            "/usr/local/lib/python3.6/dist-packages/sklearn/svm/_base.py:947: ConvergenceWarning: Liblinear failed to converge, increase the number of iterations.\n",
            "  \"the number of iterations.\", ConvergenceWarning)\n"
          ],
          "name": "stderr"
        },
        {
          "output_type": "stream",
          "text": [
            "Iteration No: 22 ended. Search finished for the next optimal point.\n",
            "Time taken: 139.0681\n",
            "Function value obtained: 2419.1965\n",
            "Current minimum: 2198.2423\n",
            "Iteration No: 23 started. Searching for the next optimal point.\n",
            "[0.20917082016843358, 9257] \n",
            "\n"
          ],
          "name": "stdout"
        },
        {
          "output_type": "stream",
          "text": [
            "/usr/local/lib/python3.6/dist-packages/sklearn/svm/_base.py:947: ConvergenceWarning: Liblinear failed to converge, increase the number of iterations.\n",
            "  \"the number of iterations.\", ConvergenceWarning)\n"
          ],
          "name": "stderr"
        },
        {
          "output_type": "stream",
          "text": [
            "Iteration No: 23 ended. Search finished for the next optimal point.\n",
            "Time taken: 141.8880\n",
            "Function value obtained: 2245.5887\n",
            "Current minimum: 2198.2423\n",
            "Iteration No: 24 started. Searching for the next optimal point.\n",
            "[0.22563398977390625, 9257] \n",
            "\n"
          ],
          "name": "stdout"
        },
        {
          "output_type": "stream",
          "text": [
            "/usr/local/lib/python3.6/dist-packages/sklearn/svm/_base.py:947: ConvergenceWarning: Liblinear failed to converge, increase the number of iterations.\n",
            "  \"the number of iterations.\", ConvergenceWarning)\n"
          ],
          "name": "stderr"
        },
        {
          "output_type": "stream",
          "text": [
            "Iteration No: 24 ended. Search finished for the next optimal point.\n",
            "Time taken: 142.5693\n",
            "Function value obtained: 2185.9072\n",
            "Current minimum: 2185.9072\n",
            "Iteration No: 25 started. Searching for the next optimal point.\n",
            "[0.16616178403011542, 9257] \n",
            "\n"
          ],
          "name": "stdout"
        },
        {
          "output_type": "stream",
          "text": [
            "/usr/local/lib/python3.6/dist-packages/sklearn/svm/_base.py:947: ConvergenceWarning: Liblinear failed to converge, increase the number of iterations.\n",
            "  \"the number of iterations.\", ConvergenceWarning)\n"
          ],
          "name": "stderr"
        },
        {
          "output_type": "stream",
          "text": [
            "Iteration No: 25 ended. Search finished for the next optimal point.\n",
            "Time taken: 135.3495\n",
            "Function value obtained: 2212.4837\n",
            "Current minimum: 2185.9072\n",
            "Iteration No: 26 started. Searching for the next optimal point.\n",
            "[0.19091224961194292, 9257] \n",
            "\n"
          ],
          "name": "stdout"
        },
        {
          "output_type": "stream",
          "text": [
            "/usr/local/lib/python3.6/dist-packages/sklearn/svm/_base.py:947: ConvergenceWarning: Liblinear failed to converge, increase the number of iterations.\n",
            "  \"the number of iterations.\", ConvergenceWarning)\n"
          ],
          "name": "stderr"
        },
        {
          "output_type": "stream",
          "text": [
            "Iteration No: 26 ended. Search finished for the next optimal point.\n",
            "Time taken: 136.0039\n",
            "Function value obtained: 2190.5146\n",
            "Current minimum: 2185.9072\n",
            "Iteration No: 27 started. Searching for the next optimal point.\n",
            "[0.20161674294210358, 9257] \n",
            "\n"
          ],
          "name": "stdout"
        },
        {
          "output_type": "stream",
          "text": [
            "/usr/local/lib/python3.6/dist-packages/sklearn/svm/_base.py:947: ConvergenceWarning: Liblinear failed to converge, increase the number of iterations.\n",
            "  \"the number of iterations.\", ConvergenceWarning)\n"
          ],
          "name": "stderr"
        },
        {
          "output_type": "stream",
          "text": [
            "Iteration No: 27 ended. Search finished for the next optimal point.\n",
            "Time taken: 136.4401\n",
            "Function value obtained: 2393.4344\n",
            "Current minimum: 2185.9072\n",
            "Iteration No: 28 started. Searching for the next optimal point.\n",
            "[0.1978988156965035, 9257] \n",
            "\n"
          ],
          "name": "stdout"
        },
        {
          "output_type": "stream",
          "text": [
            "/usr/local/lib/python3.6/dist-packages/sklearn/svm/_base.py:947: ConvergenceWarning: Liblinear failed to converge, increase the number of iterations.\n",
            "  \"the number of iterations.\", ConvergenceWarning)\n"
          ],
          "name": "stderr"
        },
        {
          "output_type": "stream",
          "text": [
            "Iteration No: 28 ended. Search finished for the next optimal point.\n",
            "Time taken: 136.2837\n",
            "Function value obtained: 2200.8586\n",
            "Current minimum: 2185.9072\n",
            "Iteration No: 29 started. Searching for the next optimal point.\n",
            "[0.1950812783894249, 9257] \n",
            "\n"
          ],
          "name": "stdout"
        },
        {
          "output_type": "stream",
          "text": [
            "/usr/local/lib/python3.6/dist-packages/sklearn/svm/_base.py:947: ConvergenceWarning: Liblinear failed to converge, increase the number of iterations.\n",
            "  \"the number of iterations.\", ConvergenceWarning)\n"
          ],
          "name": "stderr"
        },
        {
          "output_type": "stream",
          "text": [
            "Iteration No: 29 ended. Search finished for the next optimal point.\n",
            "Time taken: 136.4815\n",
            "Function value obtained: 2248.1455\n",
            "Current minimum: 2185.9072\n",
            "Iteration No: 30 started. Searching for the next optimal point.\n",
            "[0.11104605243179312, 9257] \n",
            "\n"
          ],
          "name": "stdout"
        },
        {
          "output_type": "stream",
          "text": [
            "/usr/local/lib/python3.6/dist-packages/sklearn/svm/_base.py:947: ConvergenceWarning: Liblinear failed to converge, increase the number of iterations.\n",
            "  \"the number of iterations.\", ConvergenceWarning)\n"
          ],
          "name": "stderr"
        },
        {
          "output_type": "stream",
          "text": [
            "Iteration No: 30 ended. Search finished for the next optimal point.\n",
            "Time taken: 120.9634\n",
            "Function value obtained: 2232.3724\n",
            "Current minimum: 2185.9072\n"
          ],
          "name": "stdout"
        }
      ]
    },
    {
      "cell_type": "markdown",
      "metadata": {
        "id": "W1GI5Es0ONvp",
        "colab_type": "text"
      },
      "source": [
        "PS: Houve uma outra tentativa em variar os hyper parâmetros, porém antes de conhecer a lib scikit-optimize (código na sequência)."
      ]
    },
    {
      "cell_type": "code",
      "metadata": {
        "id": "khDqyCXJtyg0",
        "colab_type": "code",
        "colab": {}
      },
      "source": [
        "%%time\n",
        "# Classificação utilizando Linear Regressor (alterando valores: C, max_iter)\n",
        "# PS: Tentativa realizada antes de conhecer o scikit-optimize\n",
        "# Ref: https://scikit-learn.org/stable/modules/generated/sklearn.svm.LinearSVR.html\n",
        "from sklearn.svm import LinearSVR\n",
        "import pandas as pd\n",
        "\n",
        "C_list=[0.1,0.25,0.33,0.5,0.75]\n",
        "max_iter_list=[2000, 5000, 10000]\n",
        "MSEmin=3000\n",
        "\n",
        "for C_val in C_list:\n",
        "  for max_val in max_iter_list:\n",
        "    modelo_linear = LinearSVR(C= C_val, max_iter= max_val)\n",
        "    modelo_linear.fit(X_treino, Y_treino)\n",
        "\n",
        "    linear_predic = modelo_linear.predict(X_teste)\n",
        "\n",
        "    aval_linear = mean_squared_error(Y_teste, linear_predic)\n",
        "    if aval_linear < MSEmin:\n",
        "      print(f\"\\nMSE: {aval_linear} para C={C_val} e max_iter={max_val}\\n\")\n"
      ],
      "execution_count": 0,
      "outputs": []
    },
    {
      "cell_type": "markdown",
      "metadata": {
        "id": "mc2HeRo_8ztO",
        "colab_type": "text"
      },
      "source": [
        "Após a execução do gp_minimize, obtivemos como menor MSE o valor 2185.90.\n",
        "Ao verificar o passo, obtivemos C= 0.16616178403011542 e max_iter= 9257.\n",
        "\n",
        "Realizarei o treino com os parâmetros C= 0.166 e max_iter= 9257."
      ]
    },
    {
      "cell_type": "code",
      "metadata": {
        "id": "8O7OAtX3MPLt",
        "colab_type": "code",
        "colab": {
          "base_uri": "https://localhost:8080/",
          "height": 156
        },
        "outputId": "c4b835be-6f49-4ab3-a957-cec3965f8769"
      },
      "source": [
        "%%time\n",
        "# Classificação utilizando Linear Regressor (valores default)\n",
        "# Ref: https://scikit-learn.org/stable/modules/generated/sklearn.svm.LinearSVR.html\n",
        "from sklearn.svm import LinearSVR\n",
        "\n",
        "modelo_linear = LinearSVR(C = 0.166, max_iter = 9257, random_state = 0)\n",
        "modelo_linear.fit(X_treino, Y_treino)\n",
        "\n",
        "linear_predic = modelo_linear.predict(X_teste)\n",
        "\n",
        "aval_linear = mean_squared_error(Y_teste, linear_predic)\n",
        "\n",
        "print(f\"\\nMinha avaliação nos dados de teste foi de {aval_linear}\\n\")"
      ],
      "execution_count": 16,
      "outputs": [
        {
          "output_type": "stream",
          "text": [
            "\n",
            "Minha avaliação nos dados de teste foi de 2210.392775452976\n",
            "\n",
            "CPU times: user 3min 31s, sys: 21 ms, total: 3min 31s\n",
            "Wall time: 3min 31s\n"
          ],
          "name": "stdout"
        },
        {
          "output_type": "stream",
          "text": [
            "/usr/local/lib/python3.6/dist-packages/sklearn/svm/_base.py:947: ConvergenceWarning: Liblinear failed to converge, increase the number of iterations.\n",
            "  \"the number of iterations.\", ConvergenceWarning)\n"
          ],
          "name": "stderr"
        }
      ]
    },
    {
      "cell_type": "code",
      "metadata": {
        "id": "p-6gS4RUPqZ6",
        "colab_type": "code",
        "colab": {
          "base_uri": "https://localhost:8080/",
          "height": 156
        },
        "outputId": "16d72aa4-c43e-4d5b-fbf0-d69b2b7d2d59"
      },
      "source": [
        "%%time\n",
        "# Classificação utilizando Linear Regressor (valores default) alterando a curva de loss\n",
        "# Ref: https://scikit-learn.org/stable/modules/generated/sklearn.svm.LinearSVR.html\n",
        "from sklearn.svm import LinearSVR\n",
        "\n",
        "modelo_linear = LinearSVR(C = 0.166, max_iter = 9257, loss=\"squared_epsilon_insensitive\", random_state = 0)\n",
        "modelo_linear.fit(X_treino, Y_treino)\n",
        "\n",
        "linear_predic = modelo_linear.predict(X_teste)\n",
        "\n",
        "aval_linear = mean_squared_error(Y_teste, linear_predic)\n",
        "\n",
        "print(f\"\\nMinha avaliação nos dados de teste foi de {aval_linear}\\n\")"
      ],
      "execution_count": 15,
      "outputs": [
        {
          "output_type": "stream",
          "text": [
            "\n",
            "Minha avaliação nos dados de teste foi de 2371.733787396042\n",
            "\n",
            "CPU times: user 3min 46s, sys: 25 ms, total: 3min 46s\n",
            "Wall time: 3min 46s\n"
          ],
          "name": "stdout"
        },
        {
          "output_type": "stream",
          "text": [
            "/usr/local/lib/python3.6/dist-packages/sklearn/svm/_base.py:947: ConvergenceWarning: Liblinear failed to converge, increase the number of iterations.\n",
            "  \"the number of iterations.\", ConvergenceWarning)\n"
          ],
          "name": "stderr"
        }
      ]
    },
    {
      "cell_type": "markdown",
      "metadata": {
        "id": "y6_pkOlg88Wi",
        "colab_type": "text"
      },
      "source": [
        "Após algumas pesquisas, optei por fazer também teste com outros modelos de regressão:"
      ]
    },
    {
      "cell_type": "code",
      "metadata": {
        "id": "8zXfe6lao4TP",
        "colab_type": "code",
        "colab": {
          "base_uri": "https://localhost:8080/",
          "height": 102
        },
        "outputId": "228465bf-7121-4cb3-e2d2-b5e4adf04776"
      },
      "source": [
        "%%time\n",
        "# Classificação utilizando SGD Regressor (default)\n",
        "# Ref: https://scikit-learn.org/stable/modules/generated/sklearn.linear_model.SGDRegressor.html\n",
        "from sklearn import linear_model\n",
        "\n",
        "modelo_SGD = linear_model.SGDRegressor()\n",
        "modelo_SGD.fit(X_treino, Y_treino)\n",
        "\n",
        "linear_SGD = modelo_SGD.predict(X_teste)\n",
        "\n",
        "aval_linear = mean_squared_error(Y_teste, linear_SGD)\n",
        "\n",
        "print(f\"\\nMinha avaliação nos dados de teste foi de {aval_linear}\\n\")"
      ],
      "execution_count": 17,
      "outputs": [
        {
          "output_type": "stream",
          "text": [
            "\n",
            "Minha avaliação nos dados de teste foi de 6.097361287161149e+27\n",
            "\n",
            "CPU times: user 14 s, sys: 4 ms, total: 14 s\n",
            "Wall time: 14 s\n"
          ],
          "name": "stdout"
        }
      ]
    },
    {
      "cell_type": "code",
      "metadata": {
        "id": "V0t-0pP8pFuh",
        "colab_type": "code",
        "colab": {
          "base_uri": "https://localhost:8080/",
          "height": 102
        },
        "outputId": "1653342e-ffda-4521-9738-6f6dbedba419"
      },
      "source": [
        "%%time\n",
        "# Classificação utilizando ElasticNet Lasso\n",
        "# Ref: https://scikit-learn.org/stable/modules/generated/sklearn.linear_model.ElasticNet.html\n",
        "from sklearn.linear_model import ElasticNet\n",
        "\n",
        "modelo_ENLasso = linear_model.ElasticNet(random_state=0)\n",
        "modelo_ENLasso.fit(X_treino, Y_treino)\n",
        "\n",
        "linear_ENL = modelo_ENLasso.predict(X_teste)\n",
        "\n",
        "aval_linear = mean_squared_error(Y_teste, linear_ENL)\n",
        "\n",
        "print(f\"\\nMinha avaliação nos dados de teste foi de {aval_linear}\\n\")"
      ],
      "execution_count": 18,
      "outputs": [
        {
          "output_type": "stream",
          "text": [
            "\n",
            "Minha avaliação nos dados de teste foi de 2177.844081157674\n",
            "\n",
            "CPU times: user 45.5 ms, sys: 7 ms, total: 52.5 ms\n",
            "Wall time: 30.7 ms\n"
          ],
          "name": "stdout"
        }
      ]
    },
    {
      "cell_type": "code",
      "metadata": {
        "id": "wcmaG6FspKec",
        "colab_type": "code",
        "colab": {}
      },
      "source": [
        "%%time\n",
        "# Classificação utilizando SVR kernel=\"rbf\" - if doesn't work -> kernel=\"linear\"\n",
        "# Ref: https://scikit-learn.org/stable/modules/generated/sklearn.svm.SVR.html\n",
        "#from sklearn.svm import SVR\n",
        "\n",
        "#modelo_SVR = SVR(C=1.0, epsilon=0.2)\n",
        "#modelo_SVR.fit(X_treino, Y_treino)\n",
        "\n",
        "#linear_SVR = modelo_SVR.predict(X_teste)\n",
        "\n",
        "#aval_linear = mean_squared_error(Y_teste, linear_SVR)\n",
        "\n",
        "#print(f\"\\nMinha avaliação nos dados de teste foi de {aval_linear}\\n\")\n",
        "\n",
        "#PS: Não executou, após muito tempo o Runtime deu problema."
      ],
      "execution_count": 0,
      "outputs": []
    },
    {
      "cell_type": "code",
      "metadata": {
        "id": "-AOk2xn22Jf2",
        "colab_type": "code",
        "colab": {}
      },
      "source": [
        "%%time\n",
        "# Classificação utilizando SVR kernel=\"rbf\" - if doesn't work -> kernel=\"linear\"\n",
        "# Ref: https://scikit-learn.org/stable/modules/generated/sklearn.svm.SVR.html\n",
        "from sklearn.svm import SVR\n",
        "\n",
        "modelo_SVR = SVR(kernel='linear', C=1.0, epsilon=0.2)\n",
        "modelo_SVR.fit(X_treino, Y_treino)\n",
        "\n",
        "linear_SVR = modelo_SVR.predict(X_teste)\n",
        "\n",
        "aval_linear = mean_squared_error(Y_teste, linear_SVR)\n",
        "\n",
        "print(f\"\\nMinha avaliação nos dados de teste foi de {aval_linear}\\n\")"
      ],
      "execution_count": 0,
      "outputs": []
    },
    {
      "cell_type": "markdown",
      "metadata": {
        "id": "nS3rFn309F9H",
        "colab_type": "text"
      },
      "source": [
        "# Conclusão:\n",
        "\n",
        "Como o menor MSE foi obtido com o ElasticNet, optei por utilizá-la como modelo final."
      ]
    },
    {
      "cell_type": "markdown",
      "metadata": {
        "id": "7KTYF7ntCbWQ",
        "colab_type": "text"
      },
      "source": [
        "Depois que você criou testou e validou seu modelo, chegou a hora de preparar seu arquivo para a submissão do resultado.\n",
        "\n",
        "No código abaixo, estamos realizando a predição das notas de **linguagem e códigos** do dataset **dados_desafioqt**. Feita a previsão, criamos um dataframe novo para a submissão, primeiro crimos a coluna **ID** e adicionamos a coluna **NU_NOTA_LC** com suas respectivas previsões (repare que nosso modelo não alterou as ordens dos ID's, mas se você utilizar algum modelo que embaralhe essa ordem certifique de colocar a previsão correta para o ID correto).\n",
        "\n",
        "Após isso, salvamos o dataframe com ´.to_csv()´ (**importante, passe o parâmetro index=False para `.to_csv()`, caso contrário nosso script não computará sua nota**) no arquivo **PREDICAO_DESAFIOQT.csv (você precisa submeter o arquivo com esse nome, caso contrário nosso script de avaliação não computará sua nota**)  e utilizamos o `files.download` para baixar o arquivo em sua máquina local.\n",
        "\n",
        "Feito tudo isso você está quase pronto para finalizar e submeter seu resultado. Você já baixou os dados, treinou e validou seu modelo, salvou sua previsão **no padrão ideal para submissão** e já está com o modelo baixado em sua máquina. Entretanto, ainda falta um detalhe: no momento de preencher o **forms** você precisa enviar seu código. Caso esteja usando os notebooks do colab siga as seguintes instruções para o download:\n",
        "\n",
        "- Clique em **File** na parte superior esquerda.\n",
        "- Depois selecione a opção **Download .ipynb** (também aceitaremos o .py caso você prefira desenvolver seu projeto em um arquivo python).\n",
        "\n",
        "\n",
        "Pronto agora é só submeter seu resultado e torcer para levar um **Nintendo Switch** para casa.\n",
        "\n",
        "Boa sorte!"
      ]
    },
    {
      "cell_type": "code",
      "metadata": {
        "id": "F5_zbGU1EQm4",
        "colab_type": "code",
        "colab": {}
      },
      "source": [
        "#atribuir ao MODELO o nome do seu melhor modelo\n",
        "from google.colab import files\n",
        "\n",
        "MODELO = modelo_ENLasso\n",
        "X_desafioqt = dados_desafioqt[coluna_features].to_numpy()\n",
        "predicao_desafioqt = MODELO.predict(X_desafioqt)\n",
        "\n",
        "\n",
        "desafio_df = pd.DataFrame(dados_desafioqt.ID)\n",
        "desafio_df[coluna_label] = predicao_desafioqt\n",
        "\n",
        "#NÃO TROCAR O NOME DO ARQUIVO DE SAÍDA (PREDICAO_DESAFIO)\n",
        "desafio_df.to_csv('PREDICAO_DESAFIOQT.csv', index=False) \n",
        "files.download('PREDICAO_DESAFIOQT.csv')\n",
        "\n"
      ],
      "execution_count": 0,
      "outputs": []
    }
  ]
}