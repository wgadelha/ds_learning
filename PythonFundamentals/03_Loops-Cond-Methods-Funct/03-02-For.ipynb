{
 "cells": [
  {
   "cell_type": "markdown",
   "metadata": {},
   "source": [
    "# <font color='blue'>Python Fundamentals - 02 For</font>\n",
    "\n",
    "## Based on: http://github.com/dsacademybr"
   ]
  },
  {
   "cell_type": "code",
   "execution_count": 1,
   "metadata": {},
   "outputs": [
    {
     "output_type": "stream",
     "name": "stdout",
     "text": [
      "Python version used in this Jupyter notebook: 3.7.6\n"
     ]
    }
   ],
   "source": [
    "# Python version\n",
    "from platform import python_version\n",
    "print('Python version used in this Jupyter notebook:', python_version())"
   ]
  },
  {
   "cell_type": "markdown",
   "metadata": {},
   "source": [
    "### Loop For"
   ]
  },
  {
   "cell_type": "code",
   "execution_count": 2,
   "metadata": {},
   "outputs": [
    {
     "output_type": "stream",
     "name": "stdout",
     "text": [
      "2\n3\n4\n"
     ]
    }
   ],
   "source": [
    "# Creating a tuple and printing its values\n",
    "tp = (2,3,4)\n",
    "for i in tp:\n",
    "    print(i)"
   ]
  },
  {
   "cell_type": "code",
   "execution_count": 3,
   "metadata": {},
   "outputs": [
    {
     "output_type": "stream",
     "name": "stdout",
     "text": [
      "Milk\nFruits\nMeat\n"
     ]
    }
   ],
   "source": [
    "# Creating a list and printing its values\n",
    "marketList = [\"Milk\", \"Fruits\", \"Meat\"]\n",
    "for i in marketList:\n",
    "    print(i)"
   ]
  },
  {
   "cell_type": "code",
   "execution_count": 4,
   "metadata": {},
   "outputs": [
    {
     "output_type": "stream",
     "name": "stdout",
     "text": [
      "0\n1\n2\n3\n4\n"
     ]
    }
   ],
   "source": [
    "# Printing the values in the interval 0 to 5 (exclusive)\n",
    "for counter in range(0,5):\n",
    "    print(counter)"
   ]
  },
  {
   "cell_type": "code",
   "execution_count": 5,
   "metadata": {},
   "outputs": [
    {
     "output_type": "stream",
     "name": "stdout",
     "text": [
      "2\n4\n6\n8\n10\n"
     ]
    }
   ],
   "source": [
    "# Printing even numbers from a list of numbers\n",
    "numberList = [1,2,3,4,5,6,7,8,9,10]\n",
    "for num in numberList:\n",
    "    if num % 2 == 0:\n",
    "        print (num)"
   ]
  },
  {
   "cell_type": "code",
   "execution_count": 6,
   "metadata": {},
   "outputs": [
    {
     "output_type": "stream",
     "name": "stdout",
     "text": [
      "0\n2\n4\n6\n8\n10\n12\n14\n16\n18\n20\n22\n24\n26\n28\n30\n32\n34\n36\n38\n40\n42\n44\n46\n48\n50\n52\n54\n56\n58\n60\n62\n64\n66\n68\n70\n72\n74\n76\n78\n80\n82\n84\n86\n88\n90\n92\n94\n96\n98\n100\n"
     ]
    }
   ],
   "source": [
    "# Listing all numbers in the interval between 0 and 101, incrementing by 2\n",
    "for i in range(0,101,2):  \n",
    "    print(i)"
   ]
  },
  {
   "cell_type": "code",
   "execution_count": 7,
   "metadata": {},
   "outputs": [
    {
     "output_type": "stream",
     "name": "stdout",
     "text": [
      "P\ny\nt\nh\no\nn\n \ni\ns\n \na\n \nf\nu\nn\n \np\nr\no\ng\nr\na\nm\nm\ni\nn\ng\n \nl\na\nn\ng\nu\na\ng\ne\n!\n"
     ]
    }
   ],
   "source": [
    "# Strings are also sequences\n",
    "for character in 'Python is a fun programming language!':\n",
    "    print (character)"
   ]
  },
  {
   "cell_type": "markdown",
   "metadata": {},
   "source": [
    "### Nested Loops"
   ]
  },
  {
   "cell_type": "code",
   "execution_count": 8,
   "metadata": {},
   "outputs": [
    {
     "output_type": "stream",
     "name": "stdout",
     "text": [
      "0\n1\n2\n3\n4\n0\n1\n2\n3\n4\n0\n1\n2\n3\n4\n0\n1\n2\n3\n4\n0\n1\n2\n3\n4\n"
     ]
    }
   ],
   "source": [
    "# Nested Loops\n",
    "for i in range(0,5):\n",
    "    for a in range(0,5):\n",
    "        print(a)"
   ]
  },
  {
   "cell_type": "code",
   "execution_count": 9,
   "metadata": {},
   "outputs": [
    {
     "output_type": "stream",
     "name": "stdout",
     "text": [
      "462\n"
     ]
    }
   ],
   "source": [
    "# Operating values from a list using a for loop\n",
    "bList = [32,53,85,10,15,17,19]\n",
    "sum = 0\n",
    "for i in bList:\n",
    "    double_i = i * 2\n",
    "    sum += double_i\n",
    "\n",
    "print(sum)"
   ]
  },
  {
   "cell_type": "code",
   "execution_count": 10,
   "metadata": {},
   "outputs": [
    {
     "output_type": "stream",
     "name": "stdout",
     "text": [
      "[1, 2, 3]\n[10, 15, 14]\n[10.1, 8.7, 2.3]\n"
     ]
    }
   ],
   "source": [
    "# Loops in nested lists\n",
    "lists = [[1,2,3], [10,15,14], [10.1,8.7,2.3]]\n",
    "for value in lists:\n",
    "    print(value)"
   ]
  },
  {
   "cell_type": "code",
   "execution_count": 11,
   "metadata": {},
   "outputs": [
    {
     "output_type": "stream",
     "name": "stdout",
     "text": [
      "5\n"
     ]
    }
   ],
   "source": [
    "# Counting items of a list\n",
    "numberList = [5,6,10,13,17]\n",
    "count = 0\n",
    "for item in numberList:\n",
    "    count += 1\n",
    "    \n",
    "print(count)"
   ]
  },
  {
   "cell_type": "code",
   "execution_count": 12,
   "metadata": {},
   "outputs": [
    {
     "output_type": "stream",
     "name": "stdout",
     "text": [
      "3\n"
     ]
    }
   ],
   "source": [
    "# Counting the row numbers\n",
    "lst = [[1,2,3],[3,4,5],[5,6,7]]\n",
    "firstLine = lst[0]\n",
    "count = 0\n",
    "for column in firstLine:\n",
    "    count = count + 1\n",
    "    \n",
    "print(count)"
   ]
  },
  {
   "cell_type": "code",
   "execution_count": 13,
   "metadata": {},
   "outputs": [
    {
     "output_type": "stream",
     "name": "stdout",
     "text": [
      "Number found in the list!\n"
     ]
    }
   ],
   "source": [
    "# Searching in lists\n",
    "listC = [5, 6, 7, 10, 50]\n",
    "\n",
    "# Loop through the list\n",
    "for item in listC:\n",
    "    if item == 5:\n",
    "        print(\"Number found in the list!\")"
   ]
  },
  {
   "cell_type": "code",
   "execution_count": 14,
   "metadata": {},
   "outputs": [
    {
     "output_type": "stream",
     "name": "stdout",
     "text": [
      "k1\nk2\nk3\n"
     ]
    }
   ],
   "source": [
    "# Listing the keys of a dictionary\n",
    "dict = {'k1':'Python','k2':'R','k3':'Scala'}\n",
    "for item in dict:\n",
    "    print(item)"
   ]
  },
  {
   "cell_type": "code",
   "execution_count": 15,
   "metadata": {},
   "outputs": [
    {
     "output_type": "stream",
     "name": "stdout",
     "text": [
      "k1 Python\nk2 R\nk3 Scala\n"
     ]
    }
   ],
   "source": [
    "# Printing the keys and values of a dictionary. Using the method items() to return the key/item pairs of the dictionary\n",
    "for k,v in dict.items():\n",
    "    print (k,v)"
   ]
  }
 ],
 "metadata": {
  "kernelspec": {
   "display_name": "Python 3",
   "language": "python",
   "name": "python3"
  },
  "language_info": {
   "codemirror_mode": {
    "name": "ipython",
    "version": 3
   },
   "file_extension": ".py",
   "mimetype": "text/x-python",
   "name": "python",
   "nbconvert_exporter": "python",
   "pygments_lexer": "ipython3",
   "version": "3.7.6-final"
  }
 },
 "nbformat": 4,
 "nbformat_minor": 1
}